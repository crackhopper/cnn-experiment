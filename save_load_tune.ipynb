{
 "cells": [
  {
   "cell_type": "markdown",
   "metadata": {},
   "source": [
    "# load the trained lenet model\n",
    "- explore the parameter, structure\n",
    "- restart training"
   ]
  },
  {
   "cell_type": "code",
   "execution_count": 1,
   "metadata": {
    "collapsed": true
   },
   "outputs": [],
   "source": [
    "import tensorflow as tf"
   ]
  },
  {
   "cell_type": "markdown",
   "metadata": {},
   "source": [
    "# trained mnist data\n",
    "- saved in ./mnist_lenet/\n",
    "- steps: from 0 to 50, then jump by 10 until 490\n",
    "- loss and accuracy are saved in 'loss_tracc_teacc.pkl'"
   ]
  },
  {
   "cell_type": "code",
   "execution_count": 2,
   "metadata": {
    "collapsed": true
   },
   "outputs": [],
   "source": [
    "import pickle\n",
    "data_dir = './mnist_lenet/'\n",
    "steps,lo,tr_acc,te_acc = pickle.load(open(data_dir+'loss_tracc_teacc.pkl'))"
   ]
  },
  {
   "cell_type": "markdown",
   "metadata": {},
   "source": [
    "# delve the last checkpoint"
   ]
  },
  {
   "cell_type": "code",
   "execution_count": 3,
   "metadata": {
    "collapsed": false
   },
   "outputs": [
    {
     "name": "stdout",
     "output_type": "stream",
     "text": [
      "conv1/weights:0\n",
      "conv1/biases:0\n",
      "conv2/weights:0\n",
      "conv2/biases:0\n",
      "fc1/weights:0\n",
      "fc1/biases:0\n",
      "fc2/weights:0\n",
      "fc2/biases:0\n"
     ]
    }
   ],
   "source": [
    "fname = 'model-%d'%steps[-1]\n",
    "meta_fname = fname+'.meta'\n",
    "\n",
    "# load the graph into default graph\n",
    "new_saver = tf.train.import_meta_graph(data_dir+meta_fname)\n",
    "for v in tf.trainable_variables():\n",
    "    print v.name"
   ]
  },
  {
   "cell_type": "markdown",
   "metadata": {},
   "source": [
    "# eval and train the model"
   ]
  },
  {
   "cell_type": "code",
   "execution_count": 4,
   "metadata": {
    "collapsed": false
   },
   "outputs": [
    {
     "name": "stdout",
     "output_type": "stream",
     "text": [
      "Extracting MNIST_data/train-images-idx3-ubyte.gz\n",
      "Extracting MNIST_data/train-labels-idx1-ubyte.gz\n",
      "Extracting MNIST_data/t10k-images-idx3-ubyte.gz\n",
      "Extracting MNIST_data/t10k-labels-idx1-ubyte.gz\n"
     ]
    }
   ],
   "source": [
    "from tensorflow.examples.tutorials.mnist import input_data\n",
    "mnist = input_data.read_data_sets('MNIST_data', one_hot=True)"
   ]
  },
  {
   "cell_type": "code",
   "execution_count": 5,
   "metadata": {
    "collapsed": false,
    "scrolled": false
   },
   "outputs": [
    {
     "name": "stdout",
     "output_type": "stream",
     "text": [
      "model-490\n",
      "0.9419\n",
      "step 490--loss:0.2505, \t training accuracy 0.88\t test accuracy 0.9419\n"
     ]
    }
   ],
   "source": [
    "x = tf.get_collection('x')[0]\n",
    "y_ = tf.get_collection('y')[0]\n",
    "accuracy = tf.get_collection('accuracy')[0]\n",
    "cross_entropy  = tf.get_collection('loss')[0]\n",
    "print fname\n",
    "with tf.Session() as sess:\n",
    "    new_saver.restore(sess, data_dir+fname)\n",
    "    test_accuracy = accuracy.eval(feed_dict={x: mnist.test.images, y_: mnist.test.labels})\n",
    "    print test_accuracy\n",
    "    print(\"step %d--loss:%.4g, \\t training accuracy %g\\t test accuracy %g\"%(steps[-1],\n",
    "                                                                            lo[-1],\n",
    "                                                                            tr_acc[-1],\n",
    "                                                                            te_acc[-1]))"
   ]
  },
  {
   "cell_type": "code",
   "execution_count": 6,
   "metadata": {
    "collapsed": false
   },
   "outputs": [
    {
     "name": "stdout",
     "output_type": "stream",
     "text": [
      "step 0--loss:0.2033, \t training accuracy 0.94\t test accuracy 0.9419\n",
      "step 1000--loss:0.1049, \t training accuracy 0.96\t test accuracy 0.9763\n",
      "step 2000--loss:0.04458, \t training accuracy 0.98\t test accuracy 0.982\n",
      "step 3000--loss:0.04234, \t training accuracy 0.98\t test accuracy 0.98\n",
      "step 4000--loss:0.004336, \t training accuracy 1\t test accuracy 0.9852\n",
      "step 5000--loss:0.01898, \t training accuracy 1\t test accuracy 0.9851\n",
      "step 6000--loss:0.008021, \t training accuracy 1\t test accuracy 0.9872\n",
      "step 7000--loss:0.0103, \t training accuracy 1\t test accuracy 0.9855\n",
      "step 8000--loss:0.04673, \t training accuracy 0.98\t test accuracy 0.9895\n",
      "step 9000--loss:0.00938, \t training accuracy 1\t test accuracy 0.9897\n"
     ]
    }
   ],
   "source": [
    "# train the model\n",
    "train_step = tf.get_collection('train_op')[0]\n",
    "final_paras=[]\n",
    "final_names=[]\n",
    "with tf.Session() as sess:\n",
    "    new_saver.restore(sess, data_dir+fname)\n",
    "    for i in range(10000):\n",
    "        batch = mnist.train.next_batch(50)\n",
    "        if i%1000 == 0:\n",
    "            train_accuracy,lo = sess.run([accuracy,cross_entropy],feed_dict={x:batch[0], y_: batch[1]})\n",
    "            test_accuracy = accuracy.eval(feed_dict={x: mnist.test.images, y_: mnist.test.labels})\n",
    "            print(\"step %d--loss:%.4g, \\t training accuracy %g\\t test accuracy %g\"%(i, lo,train_accuracy,test_accuracy))\n",
    "\n",
    "        train_step.run(feed_dict={x: batch[0], y_: batch[1]})\n",
    "    for v in tf.trainable_variables():\n",
    "        final_names.append(v.name)\n",
    "        final_paras.append(v.eval(sess))"
   ]
  },
  {
   "cell_type": "markdown",
   "metadata": {},
   "source": [
    "# visualize the parameter"
   ]
  },
  {
   "cell_type": "code",
   "execution_count": 7,
   "metadata": {
    "collapsed": false
   },
   "outputs": [
    {
     "name": "stdout",
     "output_type": "stream",
     "text": [
      "Populating the interactive namespace from numpy and matplotlib\n"
     ]
    }
   ],
   "source": [
    "%pylab inline\n",
    "conv1_weight = final_paras[0]\n",
    "conv1_bias = final_paras[1]"
   ]
  },
  {
   "cell_type": "code",
   "execution_count": 8,
   "metadata": {
    "collapsed": false
   },
   "outputs": [
    {
     "name": "stdout",
     "output_type": "stream",
     "text": [
      "[[-0.11042504 -0.09878563 -0.07490713 -0.01092591  0.0868291 ]\n",
      " [-0.04492281 -0.12828325 -0.07834356  0.00445791  0.06454389]\n",
      " [ 0.0279236  -0.06587035 -0.01119255  0.14779261  0.02896595]\n",
      " [-0.12677501 -0.05215375  0.03275673  0.01737     0.03087784]\n",
      " [-0.04788135  0.14661795  0.05549496  0.17311856  0.05876615]]\n"
     ]
    },
    {
     "data": {
      "image/png": "[encoded data removed]",
      "text/plain": [
       "<matplotlib.figure.Figure at 0x7ffa6f8d5250>"
      ]
     },
     "metadata": {},
     "output_type": "display_data"
    }
   ],
   "source": [
    "imshow(conv1_weight[:,:,0,0],cmap='gray',interpolation='nearest')\n",
    "print conv1_weight[:,:,0,0]"
   ]
  },
  {
   "cell_type": "code",
   "execution_count": 9,
   "metadata": {
    "collapsed": false
   },
   "outputs": [
    {
     "data": {
      "image/png": "[encoded data removed]",
      "text/plain": [
       "<matplotlib.figure.Figure at 0x7ffa5b980a90>"
      ]
     },
     "metadata": {},
     "output_type": "display_data"
    }
   ],
   "source": [
    "figure(figsize=(15,3))\n",
    "for i in range(32):\n",
    "    subplot(3,15,i+1)\n",
    "    imshow(conv1_weight[:,:,0,i],cmap='gray',interpolation='nearest')    \n",
    "    axis('off')"
   ]
  },
  {
   "cell_type": "markdown",
   "metadata": {},
   "source": [
    "# See the first 50 model"
   ]
  },
  {
   "cell_type": "code",
   "execution_count": 10,
   "metadata": {
    "collapsed": false,
    "scrolled": false
   },
   "outputs": [
    {
     "name": "stdout",
     "output_type": "stream",
     "text": [
      "model-0\n",
      "model-1\n",
      "model-2\n",
      "model-3\n",
      "model-4\n",
      "model-5\n",
      "model-6\n",
      "model-7\n",
      "model-8\n",
      "model-9\n",
      "model-10\n",
      "model-11\n",
      "model-12\n",
      "model-13\n",
      "model-14\n",
      "model-15\n",
      "model-16\n",
      "model-17\n",
      "model-18\n",
      "model-19\n",
      "model-20\n",
      "model-21\n",
      "model-22\n",
      "model-23\n",
      "model-24\n",
      "model-25\n",
      "model-26\n",
      "model-27\n",
      "model-28\n",
      "model-29\n",
      "model-30\n",
      "model-31\n",
      "model-32\n",
      "model-33\n",
      "model-34\n",
      "model-35\n",
      "model-36\n",
      "model-37\n",
      "model-38\n",
      "model-39\n",
      "model-40\n",
      "model-41\n",
      "model-42\n",
      "model-43\n",
      "model-44\n",
      "model-45\n",
      "model-46\n",
      "model-47\n",
      "model-48\n",
      "model-49\n"
     ]
    }
   ],
   "source": [
    "data_dir = './mnist_lenet/'\n",
    "all_paras = []\n",
    "for s in steps[0:50]:\n",
    "    fname = 'model-%d'%s\n",
    "    meta_fname = fname+'.meta'\n",
    "    print fname\n",
    "\n",
    "    paras = []\n",
    "    names = []\n",
    "    with tf.Session() as sess:\n",
    "        new_saver.restore(sess, data_dir+fname)\n",
    "        for v in tf.trainable_variables():\n",
    "            names.append(v.name)\n",
    "            paras.append(v.eval(sess))\n",
    "    all_paras.append([names,paras])"
   ]
  },
  {
   "cell_type": "markdown",
   "metadata": {},
   "source": [
    "- we first evaluate the model with the parameter we save to check correctness"
   ]
  },
  {
   "cell_type": "code",
   "execution_count": 11,
   "metadata": {
    "collapsed": false,
    "scrolled": false
   },
   "outputs": [
    {
     "name": "stdout",
     "output_type": "stream",
     "text": [
      "0 0.1232 0.1232\n",
      "1 0.1368 0.1368\n",
      "2 0.1185 0.1185\n",
      "3 0.1278 0.1278\n",
      "4 0.1408 0.1408\n",
      "5 0.1562 0.1562\n",
      "6 0.165 0.165\n",
      "7 0.1764 0.1764\n",
      "8 0.2048 0.2048\n",
      "9 0.2213 0.2213\n",
      "10 0.2204 0.2204\n",
      "11 0.2369 0.2369\n",
      "12 0.2747 0.2747\n",
      "13 0.3017 0.3017\n",
      "14 0.324 0.324\n",
      "15 0.355 0.355\n",
      "16 0.3899 0.3899\n",
      "17 0.4173 0.4173\n",
      "18 0.4436 0.4436\n",
      "19 0.4664 0.4664\n",
      "20 0.4828 0.4828\n",
      "21 0.5057 0.5057\n",
      "22 0.5359 0.5359\n",
      "23 0.5679 0.5679\n",
      "24 0.5938 0.5938\n",
      "25 0.5999 0.5999\n",
      "26 0.5996 0.5996\n",
      "27 0.5959 0.5959\n",
      "28 0.6053 0.6053\n",
      "29 0.6278 0.6278\n",
      "30 0.6513 0.6513\n",
      "31 0.6659 0.6659\n",
      "32 0.6773 0.6773\n",
      "33 0.6878 0.6878\n",
      "34 0.7049 0.7049\n",
      "35 0.7211 0.7211\n",
      "36 0.7347 0.7347\n",
      "37 0.7392 0.7392\n",
      "38 0.7379 0.7379\n",
      "39 0.7385 0.7385\n",
      "40 0.7389 0.7389\n",
      "41 0.7505 0.7505\n",
      "42 0.7646 0.7646\n",
      "43 0.7737 0.7737\n",
      "44 0.7784 0.7784\n",
      "45 0.7733 0.7733\n",
      "46 0.7659 0.7659\n",
      "47 0.7667 0.7667\n",
      "48 0.7708 0.7708\n",
      "49 0.7762 0.7762\n"
     ]
    }
   ],
   "source": [
    "steps,lo,tr_acc,te_acc = pickle.load(open(data_dir+'loss_tracc_teacc.pkl'))\n",
    "tf.reset_default_graph()\n",
    "new_saver = tf.train.import_meta_graph(data_dir+meta_fname)\n",
    "x = tf.get_collection('x')[0]\n",
    "y_ = tf.get_collection('y')[0]\n",
    "accuracy = tf.get_collection('accuracy')[0]\n",
    "\n",
    "for i in range(50):\n",
    "    paras = all_paras[i][1]\n",
    "    with tf.Session() as sess:\n",
    "        ops=[]\n",
    "        for index,v in enumerate(tf.trainable_variables()):\n",
    "            ops.append(v.assign(paras[index]))\n",
    "        sess.run(ops)\n",
    "        test_accuracy = accuracy.eval(feed_dict={x: mnist.test.images, y_: mnist.test.labels})\n",
    "        print i,test_accuracy,te_acc[i]"
   ]
  },
  {
   "cell_type": "code",
   "execution_count": 14,
   "metadata": {
    "collapsed": false
   },
   "outputs": [
    {
     "data": {
      "text/plain": [
       "[<matplotlib.lines.Line2D at 0x7ffa5ac8ca50>]"
      ]
     },
     "execution_count": 14,
     "metadata": {},
     "output_type": "execute_result"
    },
    {
     "data": {
      "image/png": "[encoded data removed]",
      "text/plain": [
       "<matplotlib.figure.Figure at 0x7ffa5aefb450>"
      ]
     },
     "metadata": {},
     "output_type": "display_data"
    }
   ],
   "source": [
    "plot(range(95),te_acc,'bo')"
   ]
  },
  {
   "cell_type": "markdown",
   "metadata": {},
   "source": [
    "## how conv1 weight changes?"
   ]
  },
  {
   "cell_type": "code",
   "execution_count": null,
   "metadata": {
    "collapsed": false,
    "scrolled": false
   },
   "outputs": [],
   "source": [
    "figure(figsize=(15,4))\n",
    "suptitle('model-1~49')\n",
    "\n",
    "index = 0\n",
    "\n",
    "paras = all_paras[0][1]\n",
    "conv1_weight =  paras[0]\n",
    "diffs = []\n",
    "for i in range(50):\n",
    "    paras = all_paras[i][1]\n",
    "    new_conv1_weight =  paras[0]\n",
    "    diffs.append(np.sum(np.abs(new_conv1_weight-conv1_weight)))\n",
    "    conv1_weight = new_conv1_weight\n",
    "    \n",
    "    subplot(4,15,i+1)\n",
    "    imshow(new_conv1_weight[:,:,0,index],cmap='gray',interpolation='nearest')    \n",
    "    axis('off')\n",
    "    \n",
    "# paras = final_paras\n",
    "# new_conv1_weight =  paras[0]\n",
    "# diffs.append(np.sum(np.abs(new_conv1_weight-conv1_weight)))\n",
    "# conv1_weight = new_conv1_weight\n",
    "# subplot(4,15,51)\n",
    "# imshow(new_conv1_weight[:,:,0,index],cmap='gray',interpolation='nearest')  \n",
    "\n",
    "show()\n",
    "figure()\n",
    "plot(range(len(diffs)),diffs,'bo')"
   ]
  },
  {
   "cell_type": "code",
   "execution_count": 19,
   "metadata": {
    "collapsed": false
   },
   "outputs": [
    {
     "data": {
      "image/png": "[encoded data removed]",
      "text/plain": [
       "<matplotlib.figure.Figure at 0x7f0c8849ad10>"
      ]
     },
     "metadata": {},
     "output_type": "display_data"
    },
    {
     "data": {
      "text/plain": [
       "[<matplotlib.lines.Line2D at 0x7f0caf97edd0>]"
      ]
     },
     "execution_count": 19,
     "metadata": {},
     "output_type": "execute_result"
    },
    {
     "data": {
      "image/png": "[encoded data removed]",
      "text/plain": [
       "<matplotlib.figure.Figure at 0x7f0cafbfbc90>"
      ]
     },
     "metadata": {},
     "output_type": "display_data"
    }
   ],
   "source": [
    "figure(figsize=(15,4))\n",
    "suptitle('model-0~49 and final one')\n",
    "\n",
    "index = 0\n",
    "\n",
    "paras = all_paras[0][1]\n",
    "conv1_weight =  paras[0]\n",
    "diffs = []\n",
    "for i in range(50):\n",
    "    paras = all_paras[i][1]\n",
    "    new_conv1_weight =  paras[0]\n",
    "    diffs.append(np.sum(np.abs(new_conv1_weight-conv1_weight)))\n",
    "    conv1_weight = new_conv1_weight\n",
    "    \n",
    "    subplot(4,15,i+1)\n",
    "    imshow(new_conv1_weight[:,:,0,index],cmap='gray',interpolation='nearest')    \n",
    "    axis('off')\n",
    "    \n",
    "paras = final_paras\n",
    "new_conv1_weight =  paras[0]\n",
    "diffs.append(np.sum(np.abs(new_conv1_weight-conv1_weight)))\n",
    "conv1_weight = new_conv1_weight\n",
    "subplot(4,15,51)\n",
    "imshow(new_conv1_weight[:,:,0,index],cmap='gray',interpolation='nearest')  \n",
    "axis('off')\n",
    "\n",
    "show()\n",
    "figure()\n",
    "plot(range(len(diffs)),diffs,'bo')"
   ]
  },
  {
   "cell_type": "markdown",
   "metadata": {},
   "source": [
    "# Found\n",
    "we found that the kernel looks \"the same\" as its initial one.  So let's check this further"
   ]
  },
  {
   "cell_type": "code",
   "execution_count": 23,
   "metadata": {
    "collapsed": false
   },
   "outputs": [
    {
     "data": {
      "image/png": "[encoded data removed]",
      "text/plain": [
       "<matplotlib.figure.Figure at 0x7f0c5c292ed0>"
      ]
     },
     "metadata": {},
     "output_type": "display_data"
    }
   ],
   "source": [
    "figure(figsize=(15,7))\n",
    "initial_paras = all_paras[0][1]\n",
    "for i in range(32):\n",
    "    subplot(7,15,3*i+1)\n",
    "    imshow(initial_paras[0][:,:,0,i],cmap='gray',interpolation='nearest')    \n",
    "    axis('off')\n",
    "\n",
    "    subplot(7,15,3*i+2)\n",
    "    imshow(final_paras[0][:,:,0,i],cmap='gray',interpolation='nearest')    \n",
    "    axis('off')\n",
    "    "
   ]
  },
  {
   "cell_type": "markdown",
   "metadata": {},
   "source": [
    "## conclusion: the value of first conv layer doesn't change a lot !!!"
   ]
  },
  {
   "cell_type": "markdown",
   "metadata": {},
   "source": [
    "# what about conv2?"
   ]
  },
  {
   "cell_type": "code",
   "execution_count": 24,
   "metadata": {
    "collapsed": false
   },
   "outputs": [
    {
     "data": {
      "image/png": "[encoded data removed]",
      "text/plain": [
       "<matplotlib.figure.Figure at 0x7f0c5c5f1890>"
      ]
     },
     "metadata": {},
     "output_type": "display_data"
    }
   ],
   "source": [
    "figure(figsize=(15,7))\n",
    "initial_paras = all_paras[0][1]\n",
    "for i in range(32):\n",
    "    subplot(7,15,3*i+1)\n",
    "    imshow(initial_paras[2][:,:,0,i],cmap='gray',interpolation='nearest')    \n",
    "    axis('off')\n",
    "\n",
    "    subplot(7,15,3*i+2)\n",
    "    imshow(final_paras[2][:,:,0,i],cmap='gray',interpolation='nearest')    \n",
    "    axis('off')"
   ]
  },
  {
   "cell_type": "markdown",
   "metadata": {},
   "source": [
    "# save the parameters for further exploration"
   ]
  },
  {
   "cell_type": "code",
   "execution_count": 25,
   "metadata": {
    "collapsed": true
   },
   "outputs": [],
   "source": [
    "outfile = open('parameter-0-49-9000.pkl','wb')\n",
    "pickle.dump([all_paras,final_paras],outfile)\n",
    "outfile.close()"
   ]
  },
  {
   "cell_type": "markdown",
   "metadata": {},
   "source": [
    "# how the statistics change? for mean and variance of each layer"
   ]
  },
  {
   "cell_type": "markdown",
   "metadata": {},
   "source": [
    "# visualization the network!"
   ]
  }
 ],
 "metadata": {
  "kernelspec": {
   "display_name": "Python [keras]",
   "language": "python",
   "name": "Python [keras]"
  },
  "language_info": {
   "codemirror_mode": {
    "name": "ipython",
    "version": 2
   },
   "file_extension": ".py",
   "mimetype": "text/x-python",
   "name": "python",
   "nbconvert_exporter": "python",
   "pygments_lexer": "ipython2",
   "version": "2.7.12"
  }
 },
 "nbformat": 4,
 "nbformat_minor": 0
}
