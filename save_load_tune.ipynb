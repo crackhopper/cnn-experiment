{
 "cells": [
  {
   "cell_type": "markdown",
   "metadata": {},
   "source": [
    "- save the lenet model (checkpoint, tf.train.saver)\n",
    "- load the lenet model\n",
    "- restart training"
   ]
  },
  {
   "cell_type": "code",
   "execution_count": 1,
   "metadata": {
    "collapsed": true
   },
   "outputs": [],
   "source": [
    "import tensorflow as tf"
   ]
  },
  {
   "cell_type": "code",
   "execution_count": 2,
   "metadata": {
    "collapsed": false
   },
   "outputs": [],
   "source": [
    "fname = 'model-100-0.52.ckpt'\n",
    "meta_fname = fname+'.meta'\n",
    "checkpoint_dir = './mnist_lenet/'\n",
    "for v in tf.trainable_variables():\n",
    "    print v.name"
   ]
  },
  {
   "cell_type": "code",
   "execution_count": 3,
   "metadata": {
    "collapsed": false
   },
   "outputs": [
    {
     "name": "stdout",
     "output_type": "stream",
     "text": [
      "conv_layer1/Conv/weights:0\n",
      "conv_layer1/Conv/biases:0\n",
      "conv_layer2/Conv/weights:0\n",
      "conv_layer2/Conv/biases:0\n",
      "fc_layer1/fully_connected/weights:0\n",
      "fc_layer1/fully_connected/biases:0\n",
      "fc_layer2/fully_connected/weights:0\n",
      "fc_layer2/fully_connected/biases:0\n"
     ]
    }
   ],
   "source": [
    "# load the graph into default graph\n",
    "new_saver = tf.train.import_meta_graph(checkpoint_dir+meta_fname)\n",
    "for v in tf.trainable_variables():\n",
    "    print v.name"
   ]
  },
  {
   "cell_type": "code",
   "execution_count": 6,
   "metadata": {
    "collapsed": false
   },
   "outputs": [
    {
     "name": "stdout",
     "output_type": "stream",
     "text": [
      "Tensor(\"OptimizeLoss/control_dependency:0\", shape=(), dtype=float32)\n"
     ]
    }
   ],
   "source": [
    "train_op = tf.get_collection('train_op')[0]\n",
    "print train_op"
   ]
  },
  {
   "cell_type": "code",
   "execution_count": 19,
   "metadata": {
    "collapsed": false
   },
   "outputs": [],
   "source": [
    "# load the variable value into graph\n",
    "paras = []\n",
    "names = []\n",
    "with tf.Session() as sess:\n",
    "    new_saver.restore(sess, checkpoint_dir+fname)\n",
    "    for v in tf.trainable_variables():\n",
    "        names.append(v.name)\n",
    "        paras.append(v.eval(sess))"
   ]
  },
  {
   "cell_type": "code",
   "execution_count": 20,
   "metadata": {
    "collapsed": false
   },
   "outputs": [
    {
     "name": "stdout",
     "output_type": "stream",
     "text": [
      "conv_layer1/Conv/weights:0 (5, 5, 1, 32)\n",
      "conv_layer1/Conv/biases:0 (32,)\n",
      "conv_layer2/Conv/weights:0 (5, 5, 32, 64)\n",
      "conv_layer2/Conv/biases:0 (64,)\n",
      "fc_layer1/fully_connected/weights:0 (3136, 1024)\n",
      "fc_layer1/fully_connected/biases:0 (1024,)\n",
      "fc_layer2/fully_connected/weights:0 (1024, 10)\n",
      "fc_layer2/fully_connected/biases:0 (10,)\n"
     ]
    }
   ],
   "source": [
    "for p,n in zip(paras,names):\n",
    "    print n,p.shape"
   ]
  },
  {
   "cell_type": "markdown",
   "metadata": {},
   "source": [
    "# visualize the parameter"
   ]
  },
  {
   "cell_type": "code",
   "execution_count": 21,
   "metadata": {
    "collapsed": false
   },
   "outputs": [
    {
     "name": "stdout",
     "output_type": "stream",
     "text": [
      "Populating the interactive namespace from numpy and matplotlib\n"
     ]
    }
   ],
   "source": [
    "%pylab inline\n",
    "conv1_weight = paras[0]\n",
    "conv1_bias = paras[1]"
   ]
  },
  {
   "cell_type": "code",
   "execution_count": 22,
   "metadata": {
    "collapsed": false
   },
   "outputs": [
    {
     "data": {
      "text/plain": [
       "(5, 5, 1, 32)"
      ]
     },
     "execution_count": 22,
     "metadata": {},
     "output_type": "execute_result"
    }
   ],
   "source": [
    "conv1_weight.shape"
   ]
  },
  {
   "cell_type": "code",
   "execution_count": 26,
   "metadata": {
    "collapsed": false
   },
   "outputs": [
    {
     "name": "stdout",
     "output_type": "stream",
     "text": [
      "[[-0.00516318  0.04482708 -0.05898449 -0.08218686 -0.05365453]\n",
      " [-0.04021062  0.06647059  0.01489461  0.0832224  -0.02161128]\n",
      " [ 0.04855992 -0.01322181 -0.01070033 -0.05315398 -0.07970252]\n",
      " [ 0.04686295  0.08152736 -0.04813642 -0.0675629  -0.07342914]\n",
      " [ 0.07059426  0.00641206  0.01793653 -0.05563544  0.04204448]]\n"
     ]
    },
    {
     "data": {
      "image/png": "[encoded data removed]",
      "text/plain": [
       "<matplotlib.figure.Figure at 0x110c6e850>"
      ]
     },
     "metadata": {},
     "output_type": "display_data"
    }
   ],
   "source": [
    "imshow(conv1_weight[:,:,0,0],cmap='gray',interpolation='nearest')\n",
    "print conv1_weight[:,:,0,0]"
   ]
  },
  {
   "cell_type": "code",
   "execution_count": 34,
   "metadata": {
    "collapsed": false
   },
   "outputs": [
    {
     "data": {
      "image/png": "[encoded data removed]",
      "text/plain": [
       "<matplotlib.figure.Figure at 0x114614d10>"
      ]
     },
     "metadata": {},
     "output_type": "display_data"
    }
   ],
   "source": [
    "figure(figsize=(15,3))\n",
    "for i in range(32):\n",
    "    subplot(3,15,i+1)\n",
    "    imshow(conv1_weight[:,:,0,i],cmap='gray',interpolation='nearest')    \n",
    "    axis('off')"
   ]
  },
  {
   "cell_type": "markdown",
   "metadata": {},
   "source": [
    "# all in one"
   ]
  },
  {
   "cell_type": "code",
   "execution_count": 36,
   "metadata": {
    "collapsed": false
   },
   "outputs": [
    {
     "data": {
      "image/png": "[encoded data removed]",
      "text/plain": [
       "<matplotlib.figure.Figure at 0x10bd9f9d0>"
      ]
     },
     "metadata": {},
     "output_type": "display_data"
    }
   ],
   "source": [
    "fname = 'model-1900-0.69.ckpt'\n",
    "meta_fname = fname+'.meta'\n",
    "checkpoint_dir = './mnist_lenet/'\n",
    "\n",
    "new_saver = tf.train.import_meta_graph(checkpoint_dir+meta_fname)\n",
    "paras = []\n",
    "names = []\n",
    "with tf.Session() as sess:\n",
    "    new_saver.restore(sess, checkpoint_dir+fname)\n",
    "    for v in tf.trainable_variables():\n",
    "        names.append(v.name)\n",
    "        paras.append(v.eval(sess))\n",
    "        \n",
    "figure(figsize=(15,3))\n",
    "for i in range(32):\n",
    "    subplot(3,15,i+1)\n",
    "    imshow(conv1_weight[:,:,0,i],cmap='gray',interpolation='nearest')    \n",
    "    axis('off')"
   ]
  },
  {
   "cell_type": "code",
   "execution_count": null,
   "metadata": {
    "collapsed": true
   },
   "outputs": [],
   "source": []
  }
 ],
 "metadata": {
  "kernelspec": {
   "display_name": "Python 2",
   "language": "python",
   "name": "python2"
  },
  "language_info": {
   "codemirror_mode": {
    "name": "ipython",
    "version": 2
   },
   "file_extension": ".py",
   "mimetype": "text/x-python",
   "name": "python",
   "nbconvert_exporter": "python",
   "pygments_lexer": "ipython2",
   "version": "2.7.12"
  }
 },
 "nbformat": 4,
 "nbformat_minor": 0
}
