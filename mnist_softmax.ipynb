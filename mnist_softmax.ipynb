{
 "cells": [
  {
   "cell_type": "markdown",
   "metadata": {},
   "source": [
    "# MNIST Dataset\n",
    "\n",
    "http://yann.lecun.com/exdb/mnist/\n",
    "\n",
    "The MNIST database of handwritten digits, available from this page, has a training set of 60,000 examples, and a test set of 10,000 examples. It is a subset of a larger set available from NIST. The digits have been size-normalized and centered in a fixed-size image."
   ]
  },
  {
   "cell_type": "code",
   "execution_count": 1,
   "metadata": {
    "collapsed": false
   },
   "outputs": [],
   "source": [
    "from __future__ import print_function\n",
    "from __future__ import absolute_import\n",
    "from __future__ import division\n",
    "\n",
    "from six.moves import xrange\n",
    "\n",
    "import os\n",
    "import shutil\n",
    "from six.moves import urllib\n",
    "import sys"
   ]
  },
  {
   "cell_type": "markdown",
   "metadata": {},
   "source": [
    "## Download data"
   ]
  },
  {
   "cell_type": "code",
   "execution_count": 2,
   "metadata": {
    "collapsed": false
   },
   "outputs": [],
   "source": [
    "SOURCE_URL = 'http://yann.lecun.com/exdb/mnist/'\n",
    "TRAIN_IMAGES = 'train-images-idx3-ubyte.gz'\n",
    "TRAIN_LABELS = 'train-labels-idx1-ubyte.gz'\n",
    "TEST_IMAGES = 't10k-images-idx3-ubyte.gz'\n",
    "TEST_LABELS = 't10k-labels-idx1-ubyte.gz'\n",
    "\n",
    "datadir = os.path.abspath('./Data')\n",
    "if not os.path.exists(datadir):\n",
    "    os.mkdir(datadir)\n",
    "    \n",
    "if not os.path.exists(os.path.join(datadir,TRAIN_IMAGES)):\n",
    "    print('start downloading the data')\n",
    "    def processbar(filename):\n",
    "        def _process(count,block_size,total_size):\n",
    "            per = float(count*block_size)*100/total_size\n",
    "            if per > 100:\n",
    "                sys.stdout.write('\\r>>downloading {0} 100%\\n--downloaed {0}\\n'.format(filename))\n",
    "            else:\n",
    "                sys.stdout.write('\\r>>downloading %s %.1f%%'%(filename,per))          \n",
    "            sys.stdout.flush()\n",
    "        return _process\n",
    "    fname = TRAIN_IMAGES\n",
    "    surl = SOURCE_URL+fname\n",
    "    urllib.request.urlretrieve(surl, os.path.join(datadir,fname),processbar(fname))\n",
    "    \n",
    "    fname = TRAIN_LABELS\n",
    "    surl = SOURCE_URL+fname\n",
    "    urllib.request.urlretrieve(surl, os.path.join(datadir,fname),processbar(fname))\n",
    "    \n",
    "    fname = TEST_IMAGES\n",
    "    surl = SOURCE_URL+fname\n",
    "    urllib.request.urlretrieve(surl, os.path.join(datadir,fname),processbar(fname))\n",
    "\n",
    "    fname = TEST_LABELS\n",
    "    surl = SOURCE_URL+fname\n",
    "    urllib.request.urlretrieve(surl, os.path.join(datadir,fname),processbar(fname))\n"
   ]
  },
  {
   "cell_type": "markdown",
   "metadata": {},
   "source": [
    "# Data Format\n",
    "The resulting images contain grey levels as a result of the anti-aliasing technique used by the normalization algorithm. the images were centered in a 28x28 image by computing the center of mass of the pixels, and translating the image so as to position this point at the center of the 28x28 field.\n",
    "\n",
    "The training set contains 60000 examples, and the test set 10000 examples.\n",
    "\n",
    "## TRAINING SET LABEL FILE (train-labels-idx1-ubyte):\n",
    "\n",
    "```\n",
    "[offset] [type]          [value]          [description] \n",
    "0000     32 bit integer  0x00000801(2049) magic number (MSB first) \n",
    "0004     32 bit integer  60000            number of items \n",
    "0008     unsigned byte   ??               label \n",
    "0009     unsigned byte   ??               label \n",
    "........ \n",
    "xxxx     unsigned byte   ??               label\n",
    "The labels values are 0 to 9.\n",
    "```\n",
    "\n",
    "## TRAINING SET IMAGE FILE (train-images-idx3-ubyte):\n",
    "```\n",
    "[offset] [type]          [value]          [description] \n",
    "0000     32 bit integer  0x00000803(2051) magic number \n",
    "0004     32 bit integer  60000            number of images \n",
    "0008     32 bit integer  28               number of rows \n",
    "0012     32 bit integer  28               number of columns \n",
    "0016     unsigned byte   ??               pixel \n",
    "0017     unsigned byte   ??               pixel \n",
    "........ \n",
    "xxxx     unsigned byte   ??               pixel\n",
    "```\n",
    "\n",
    "The test data is the same as the train data, respectively."
   ]
  },
  {
   "cell_type": "code",
   "execution_count": 3,
   "metadata": {
    "collapsed": false
   },
   "outputs": [
    {
     "name": "stdout",
     "output_type": "stream",
     "text": [
      "(60000, 28, 28, 1) (60000, 1)\n"
     ]
    },
    {
     "data": {
      "text/plain": [
       "<matplotlib.image.AxesImage at 0x102a22e90>"
      ]
     },
     "execution_count": 3,
     "metadata": {},
     "output_type": "execute_result"
    },
    {
     "data": {
      "image/png": "[encoded data removed]",
      "text/plain": [
       "<matplotlib.figure.Figure at 0x1056bbad0>"
      ]
     },
     "metadata": {},
     "output_type": "display_data"
    }
   ],
   "source": [
    "import gzip\n",
    "import os\n",
    "import numpy as np\n",
    "import tensorflow as tf\n",
    "import matplotlib.pyplot as plt\n",
    "%matplotlib inline\n",
    "\n",
    "TRAIN_IMAGES = 'train-images-idx3-ubyte.gz'\n",
    "TRAIN_LABELS = 'train-labels-idx1-ubyte.gz'\n",
    "TEST_IMAGES = 't10k-images-idx3-ubyte.gz'\n",
    "TEST_LABELS = 't10k-labels-idx1-ubyte.gz'\n",
    "\n",
    "datadir = os.path.abspath('./Data')\n",
    "with gzip.GzipFile(datadir+'/'+TRAIN_IMAGES) as f:\n",
    "    buf = f.read()   \n",
    "train_magic1,nimg,nrow, ncol= np.frombuffer(buf,np.dtype('>i4'),4)\n",
    "train_image = np.frombuffer(buf,np.dtype('u1'),offset=16)\n",
    "\n",
    "with gzip.GzipFile(datadir+'/'+TRAIN_LABELS) as f:\n",
    "    buf = f.read()   \n",
    "train_magic2,nlbl = np.frombuffer(buf,np.dtype('>i4'),2)\n",
    "train_label = np.frombuffer(buf,np.dtype('u1'),offset=8)\n",
    "\n",
    "assert(train_magic1==2051)\n",
    "assert(train_magic2==2049)\n",
    "\n",
    "images = [] # use python list, avoid reallocation when append elements\n",
    "for i in range(nimg):\n",
    "    img = train_image[i*nrow*ncol:(i+1)*nrow*ncol].reshape(nrow,ncol)\n",
    "    images.append(img)\n",
    "\n",
    "images = np.array(images) # change to np.array\n",
    "\n",
    "data = images.reshape([-1,28,28,1])/255.0\n",
    "label = train_label.reshape([-1,1])\n",
    "print(data.shape,label.shape)\n",
    "plt.imshow(data[0,:,:,0],cmap='gray')"
   ]
  },
  {
   "cell_type": "code",
   "execution_count": 4,
   "metadata": {
    "collapsed": false,
    "scrolled": false
   },
   "outputs": [
    {
     "name": "stdout",
     "output_type": "stream",
     "text": [
      "Dataset(data=, label=, per_for_test=0.200000): <train:((48000, 28, 28, 1)-(48000, 1));  test:((12000, 28, 28, 1)-(12000, 1))>\n",
      "DSet: x:(48000, 28, 28, 1), y:(48000, 1)\n"
     ]
    }
   ],
   "source": [
    "class DSet(object):\n",
    "    def __init__(self,x,y):\n",
    "        self.x = x\n",
    "        self.y = y\n",
    "    def __repr__(self):\n",
    "        return 'DSet: x:%s, y:%s'%(self.x.shape,self.y.shape)\n",
    "    \n",
    "    def __len__(self):\n",
    "        return len(self.x)\n",
    "    \n",
    "class Dataset(object):\n",
    "    def __init__(self,data,label,per_for_test):\n",
    "        self._per_for_test = per_for_test\n",
    "        self._data = data\n",
    "        self._label = label\n",
    "        n_test = int(len(self)*self._per_for_test)\n",
    "        n_train = len(self)-n_test\n",
    "        idx_train = np.zeros(len(self),dtype=bool)\n",
    "        idx_train[np.random.choice(np.arange(len(self)),n_train,replace=False)]=True\n",
    "        \n",
    "        \n",
    "        self.train = DSet(self._data[idx_train,:],self._label[idx_train,:])\n",
    "        self.test = DSet(self._data[~idx_train,:],self._label[~idx_train,:])\n",
    "        \n",
    "        self._train_perm = np.arange(len(self.train.x))\n",
    "        \n",
    "        self._index_in_epoch = 0\n",
    "        self._epochs_completed = 0\n",
    "        \n",
    "    \n",
    "    def __len__(self):\n",
    "        return len(self._data)\n",
    "    \n",
    "    # only select batch in training data\n",
    "    def next_batch(self, batch_size):\n",
    "        assert batch_size <= len(self.train)\n",
    "        start = self._index_in_epoch\n",
    "        self._index_in_epoch += batch_size\n",
    "        if self._index_in_epoch>len(self.train.x):\n",
    "            self._epochs_completed += 1\n",
    "            perm = np.arange(len(self.train.x))\n",
    "            self.train.x = self.train.x[perm]\n",
    "            self.train.y = self.train.y[perm]\n",
    "            start = 0\n",
    "            self._index_in_epoch=batch_size\n",
    "            assert batch_size <= len(self.train)\n",
    "        end = self._index_in_epoch\n",
    "        return DSet(self.train.x[start:end], self.train.y[start:end])\n",
    "    \n",
    "    def __repr__(self):\n",
    "        return 'Dataset(data=, label=, per_for_test=%f): <train:(%s-%s);  test:(%s-%s)>' % (\n",
    "            self._per_for_test,\n",
    "            str(self.train.x.shape),\n",
    "            str(self.train.y.shape),\n",
    "            str(self.test.x.shape),\n",
    "            str(self.test.y.shape),\n",
    "        )\n",
    "\n",
    "mnist = Dataset(data,label,0.20)\n",
    "print(mnist)\n",
    "print(mnist.train)"
   ]
  },
  {
   "cell_type": "markdown",
   "metadata": {},
   "source": [
    "# Visualization Toolset"
   ]
  },
  {
   "cell_type": "code",
   "execution_count": 5,
   "metadata": {
    "collapsed": true
   },
   "outputs": [],
   "source": [
    "from IPython.display import clear_output, Image, display, HTML\n",
    "# Helper functions for TF Graph visualization\n",
    "def strip_consts(graph_def, max_const_size=32):\n",
    "    \"\"\"Strip large constant values from graph_def.\"\"\"\n",
    "    strip_def = tf.GraphDef()\n",
    "    for n0 in graph_def.node:\n",
    "        n = strip_def.node.add() \n",
    "        n.MergeFrom(n0)\n",
    "        if n.op == 'Const':\n",
    "            tensor = n.attr['value'].tensor\n",
    "            size = len(tensor.tensor_content)\n",
    "            if size > max_const_size:\n",
    "                tensor.tensor_content = bytes(\"<stripped %d bytes>\"%size, 'utf-8')\n",
    "    return strip_def\n",
    "  \n",
    "\n",
    "def show_graph(graph_def, max_const_size=32):\n",
    "    \"\"\"Visualize TensorFlow graph.\"\"\"\n",
    "    if hasattr(graph_def, 'as_graph_def'):\n",
    "        graph_def = graph_def.as_graph_def()\n",
    "    strip_def = strip_consts(graph_def, max_const_size=max_const_size)\n",
    "    code = \"\"\"\n",
    "        <script>\n",
    "          function load() {{\n",
    "            document.getElementById(\"{id}\").pbtxt = {data};\n",
    "          }}\n",
    "        </script>\n",
    "        <link rel=\"import\" href=\"https://tensorboard.appspot.com/tf-graph-basic.build.html\" onload=load()>\n",
    "        <div style=\"height:600px\">\n",
    "          <tf-graph-basic id=\"{id}\"></tf-graph-basic>\n",
    "        </div>\n",
    "    \"\"\".format(data=repr(str(strip_def)), id='graph'+str(np.random.rand()))\n",
    "  \n",
    "    iframe = \"\"\"\n",
    "        <iframe seamless style=\"width:800px;height:620px;border:0\" srcdoc=\"{}\"></iframe>\n",
    "    \"\"\".format(code.replace('\"', '&quot;'))\n",
    "    display(HTML(iframe))\n"
   ]
  },
  {
   "cell_type": "markdown",
   "metadata": {},
   "source": [
    "# Softmax regression"
   ]
  },
  {
   "cell_type": "code",
   "execution_count": 6,
   "metadata": {
    "collapsed": false
   },
   "outputs": [],
   "source": [
    "import numpy as np\n",
    "tf.reset_default_graph()\n",
    "\n",
    "def flatten(feat):\n",
    "    _shape = feat.get_shape()\n",
    "    nfeat = np.prod(_shape[1:]).value \n",
    "    with tf.variable_scope('flatten'):\n",
    "        feat = tf.reshape(feat,shape=[-1,nfeat],name='flattened')\n",
    "    return feat\n",
    "        \n",
    "def softmax_classifier(feat, nlabel):\n",
    "    _shape = feat.get_shape()\n",
    "    nfeat = np.prod(_shape[1:]).value \n",
    "    with tf.variable_scope('fc'):\n",
    "        W = tf.Variable(tf.zeros([nfeat,nlabel]),name='W')\n",
    "        b = tf.Variable(tf.zeros([nlabel]),name='b')\n",
    "        logit = tf.matmul(feat,W)+b\n",
    "    return logit\n",
    "\n",
    "def one_hot(target,nlabel):\n",
    "    with tf.variable_scope('onehot'):\n",
    "        one_hot_target = tf.one_hot(tf.cast(tf.reshape(target,[-1]),tf.int32),nlabel)\n",
    "    return one_hot_target\n",
    "\n",
    "def cross_entropy_loss(logit,onehot):\n",
    "    with tf.variable_scope('cross_entropy'):\n",
    "        loss = tf.reduce_mean(tf.nn.softmax_cross_entropy_with_logits(logit,onehot))\n",
    "    return loss\n",
    "\n",
    "def logit_accuracy(logit,one_hot):\n",
    "    with tf.variable_scope('accuracy'):\n",
    "        correct_prediction = tf.equal(tf.argmax(logit, 1), tf.argmax(one_hot,1))\n",
    "        accuracy = tf.reduce_mean(tf.cast(correct_prediction, tf.float32))\n",
    "        \n",
    "    return accuracy\n",
    "        \n",
    "graph = tf.Graph()\n",
    "with graph.as_default():\n",
    "    feat = tf.placeholder(shape=[None,28,28,1],dtype = tf.float32,name='input')\n",
    "    flattened_feat = flatten(feat)\n",
    "    logit = softmax_classifier(flattened_feat,10)\n",
    "    \n",
    "    target = tf.placeholder(shape=[None,1],dtype = tf.int64,name='target') \n",
    "    onehot_tgt = one_hot(target,10)    \n",
    "    \n",
    "    loss = cross_entropy_loss(logit,onehot_tgt)\n",
    "    accuracy = logit_accuracy(logit,onehot_tgt)\n",
    "    \n",
    "graph_def = graph.as_graph_def()\n",
    "sess = tf.InteractiveSession(graph=graph)"
   ]
  },
  {
   "cell_type": "code",
   "execution_count": 7,
   "metadata": {
    "collapsed": false,
    "scrolled": false
   },
   "outputs": [
    {
     "name": "stdout",
     "output_type": "stream",
     "text": [
      "total iteration : 48000\n",
      "0: loss:2.302585, accuracy:0.099750\n",
      "100: loss:0.559570, accuracy:0.880167\n",
      "200: loss:0.267703, accuracy:0.897083\n",
      "300: loss:0.464257, accuracy:0.896000\n",
      "400: loss:0.300259, accuracy:0.905250\n",
      "500: loss:0.153507, accuracy:0.906833\n",
      "600: loss:0.411640, accuracy:0.909750\n",
      "700: loss:0.183225, accuracy:0.910250\n",
      "800: loss:0.233041, accuracy:0.909833\n",
      "900: loss:0.196567, accuracy:0.911750\n",
      "1000: loss:0.368646, accuracy:0.914250\n",
      "1100: loss:0.355865, accuracy:0.911917\n",
      "1200: loss:0.248110, accuracy:0.914417\n",
      "1300: loss:0.541352, accuracy:0.913417\n",
      "1400: loss:0.278069, accuracy:0.915583\n",
      "1500: loss:0.310415, accuracy:0.916583\n",
      "1600: loss:0.284143, accuracy:0.912750\n",
      "1700: loss:0.133175, accuracy:0.908917\n",
      "1800: loss:0.461406, accuracy:0.916333\n",
      "1900: loss:0.277702, accuracy:0.916500\n",
      "2000: loss:0.242792, accuracy:0.914500\n",
      "2100: loss:0.481660, accuracy:0.913500\n",
      "2200: loss:0.218076, accuracy:0.917500\n",
      "2300: loss:0.289748, accuracy:0.912000\n",
      "2400: loss:0.232344, accuracy:0.904667\n",
      "2500: loss:0.532797, accuracy:0.910417\n",
      "2600: loss:0.170708, accuracy:0.916833\n",
      "2700: loss:0.331895, accuracy:0.914083\n",
      "2800: loss:0.213901, accuracy:0.918583\n",
      "2900: loss:0.143146, accuracy:0.919417\n"
     ]
    }
   ],
   "source": [
    "train_op = tf.train.GradientDescentOptimizer(0.5).minimize(loss)\n",
    "batch_size = 100\n",
    "epoch = 100\n",
    "N = len(mnist.train)\n",
    "maxIter = int(N/batch_size*epoch)\n",
    "print('total iteration : %d'%maxIter)\n",
    "\n",
    "sess.run(tf.initialize_all_variables())\n",
    "testdict = {feat:mnist.test.x.astype(np.float32),target:mnist.test.y.astype(np.int32)}\n",
    "\n",
    "for i in xrange(3000):\n",
    "    batch = mnist.next_batch(100)\n",
    "    batch = {feat:batch.x.astype(np.float32),target:batch.y.astype(np.int32)}\n",
    "    if i%100 == 0:\n",
    "        print('%d: loss:%f, accuracy:%f'\n",
    "              %(i,\n",
    "                loss.eval(feed_dict=batch),\n",
    "                accuracy.eval(feed_dict=testdict)))\n",
    "    sess.run(train_op,feed_dict=batch)"
   ]
  },
  {
   "cell_type": "code",
   "execution_count": 8,
   "metadata": {
    "collapsed": false
   },
   "outputs": [
    {
     "data": {
      "text/html": [
       "\n",
       "        <iframe seamless style=\"width:800px;height:620px;border:0\" srcdoc=\"\n",
       "        <script>\n",
       "          function load() {\n",
       "            document.getElementById(&quot;graph0.377249657638&quot;).pbtxt = 'node {\\n  name: &quot;input&quot;\\n  op: &quot;Placeholder&quot;\\n  attr {\\n    key: &quot;dtype&quot;\\n    value {\\n      type: DT_FLOAT\\n    }\\n  }\\n  attr {\\n    key: &quot;shape&quot;\\n    value {\\n      shape {\\n      }\\n    }\\n  }\\n}\\nnode {\\n  name: &quot;flatten/flattened/shape&quot;\\n  op: &quot;Const&quot;\\n  attr {\\n    key: &quot;dtype&quot;\\n    value {\\n      type: DT_INT32\\n    }\\n  }\\n  attr {\\n    key: &quot;value&quot;\\n    value {\\n      tensor {\\n        dtype: DT_INT32\\n        tensor_shape {\\n          dim {\\n            size: 2\\n          }\\n        }\\n        tensor_content: &quot;\\\\377\\\\377\\\\377\\\\377\\\\020\\\\003\\\\000\\\\000&quot;\\n      }\\n    }\\n  }\\n}\\nnode {\\n  name: &quot;flatten/flattened&quot;\\n  op: &quot;Reshape&quot;\\n  input: &quot;input&quot;\\n  input: &quot;flatten/flattened/shape&quot;\\n  attr {\\n    key: &quot;T&quot;\\n    value {\\n      type: DT_FLOAT\\n    }\\n  }\\n  attr {\\n    key: &quot;Tshape&quot;\\n    value {\\n      type: DT_INT32\\n    }\\n  }\\n}\\nnode {\\n  name: &quot;fc/zeros&quot;\\n  op: &quot;Const&quot;\\n  attr {\\n    key: &quot;dtype&quot;\\n    value {\\n      type: DT_FLOAT\\n    }\\n  }\\n  attr {\\n    key: &quot;value&quot;\\n    value {\\n      tensor {\\n        dtype: DT_FLOAT\\n        tensor_shape {\\n          dim {\\n            size: 784\\n          }\\n          dim {\\n            size: 10\\n          }\\n        }\\n        float_val: 0.0\\n      }\\n    }\\n  }\\n}\\nnode {\\n  name: &quot;fc/W&quot;\\n  op: &quot;Variable&quot;\\n  attr {\\n    key: &quot;container&quot;\\n    value {\\n      s: &quot;&quot;\\n    }\\n  }\\n  attr {\\n    key: &quot;dtype&quot;\\n    value {\\n      type: DT_FLOAT\\n    }\\n  }\\n  attr {\\n    key: &quot;shape&quot;\\n    value {\\n      shape {\\n        dim {\\n          size: 784\\n        }\\n        dim {\\n          size: 10\\n        }\\n      }\\n    }\\n  }\\n  attr {\\n    key: &quot;shared_name&quot;\\n    value {\\n      s: &quot;&quot;\\n    }\\n  }\\n}\\nnode {\\n  name: &quot;fc/W/Assign&quot;\\n  op: &quot;Assign&quot;\\n  input: &quot;fc/W&quot;\\n  input: &quot;fc/zeros&quot;\\n  attr {\\n    key: &quot;T&quot;\\n    value {\\n      type: DT_FLOAT\\n    }\\n  }\\n  attr {\\n    key: &quot;_class&quot;\\n    value {\\n      list {\\n        s: &quot;loc:@fc/W&quot;\\n      }\\n    }\\n  }\\n  attr {\\n    key: &quot;use_locking&quot;\\n    value {\\n      b: true\\n    }\\n  }\\n  attr {\\n    key: &quot;validate_shape&quot;\\n    value {\\n      b: true\\n    }\\n  }\\n}\\nnode {\\n  name: &quot;fc/W/read&quot;\\n  op: &quot;Identity&quot;\\n  input: &quot;fc/W&quot;\\n  attr {\\n    key: &quot;T&quot;\\n    value {\\n      type: DT_FLOAT\\n    }\\n  }\\n  attr {\\n    key: &quot;_class&quot;\\n    value {\\n      list {\\n        s: &quot;loc:@fc/W&quot;\\n      }\\n    }\\n  }\\n}\\nnode {\\n  name: &quot;fc/zeros_1&quot;\\n  op: &quot;Const&quot;\\n  attr {\\n    key: &quot;dtype&quot;\\n    value {\\n      type: DT_FLOAT\\n    }\\n  }\\n  attr {\\n    key: &quot;value&quot;\\n    value {\\n      tensor {\\n        dtype: DT_FLOAT\\n        tensor_shape {\\n          dim {\\n            size: 10\\n          }\\n        }\\n        float_val: 0.0\\n      }\\n    }\\n  }\\n}\\nnode {\\n  name: &quot;fc/b&quot;\\n  op: &quot;Variable&quot;\\n  attr {\\n    key: &quot;container&quot;\\n    value {\\n      s: &quot;&quot;\\n    }\\n  }\\n  attr {\\n    key: &quot;dtype&quot;\\n    value {\\n      type: DT_FLOAT\\n    }\\n  }\\n  attr {\\n    key: &quot;shape&quot;\\n    value {\\n      shape {\\n        dim {\\n          size: 10\\n        }\\n      }\\n    }\\n  }\\n  attr {\\n    key: &quot;shared_name&quot;\\n    value {\\n      s: &quot;&quot;\\n    }\\n  }\\n}\\nnode {\\n  name: &quot;fc/b/Assign&quot;\\n  op: &quot;Assign&quot;\\n  input: &quot;fc/b&quot;\\n  input: &quot;fc/zeros_1&quot;\\n  attr {\\n    key: &quot;T&quot;\\n    value {\\n      type: DT_FLOAT\\n    }\\n  }\\n  attr {\\n    key: &quot;_class&quot;\\n    value {\\n      list {\\n        s: &quot;loc:@fc/b&quot;\\n      }\\n    }\\n  }\\n  attr {\\n    key: &quot;use_locking&quot;\\n    value {\\n      b: true\\n    }\\n  }\\n  attr {\\n    key: &quot;validate_shape&quot;\\n    value {\\n      b: true\\n    }\\n  }\\n}\\nnode {\\n  name: &quot;fc/b/read&quot;\\n  op: &quot;Identity&quot;\\n  input: &quot;fc/b&quot;\\n  attr {\\n    key: &quot;T&quot;\\n    value {\\n      type: DT_FLOAT\\n    }\\n  }\\n  attr {\\n    key: &quot;_class&quot;\\n    value {\\n      list {\\n        s: &quot;loc:@fc/b&quot;\\n      }\\n    }\\n  }\\n}\\nnode {\\n  name: &quot;fc/MatMul&quot;\\n  op: &quot;MatMul&quot;\\n  input: &quot;flatten/flattened&quot;\\n  input: &quot;fc/W/read&quot;\\n  attr {\\n    key: &quot;T&quot;\\n    value {\\n      type: DT_FLOAT\\n    }\\n  }\\n  attr {\\n    key: &quot;transpose_a&quot;\\n    value {\\n      b: false\\n    }\\n  }\\n  attr {\\n    key: &quot;transpose_b&quot;\\n    value {\\n      b: false\\n    }\\n  }\\n}\\nnode {\\n  name: &quot;fc/add&quot;\\n  op: &quot;Add&quot;\\n  input: &quot;fc/MatMul&quot;\\n  input: &quot;fc/b/read&quot;\\n  attr {\\n    key: &quot;T&quot;\\n    value {\\n      type: DT_FLOAT\\n    }\\n  }\\n}\\nnode {\\n  name: &quot;target&quot;\\n  op: &quot;Placeholder&quot;\\n  attr {\\n    key: &quot;dtype&quot;\\n    value {\\n      type: DT_INT64\\n    }\\n  }\\n  attr {\\n    key: &quot;shape&quot;\\n    value {\\n      shape {\\n      }\\n    }\\n  }\\n}\\nnode {\\n  name: &quot;onehot/Reshape/shape&quot;\\n  op: &quot;Const&quot;\\n  attr {\\n    key: &quot;dtype&quot;\\n    value {\\n      type: DT_INT32\\n    }\\n  }\\n  attr {\\n    key: &quot;value&quot;\\n    value {\\n      tensor {\\n        dtype: DT_INT32\\n        tensor_shape {\\n          dim {\\n            size: 1\\n          }\\n        }\\n        int_val: -1\\n      }\\n    }\\n  }\\n}\\nnode {\\n  name: &quot;onehot/Reshape&quot;\\n  op: &quot;Reshape&quot;\\n  input: &quot;target&quot;\\n  input: &quot;onehot/Reshape/shape&quot;\\n  attr {\\n    key: &quot;T&quot;\\n    value {\\n      type: DT_INT64\\n    }\\n  }\\n  attr {\\n    key: &quot;Tshape&quot;\\n    value {\\n      type: DT_INT32\\n    }\\n  }\\n}\\nnode {\\n  name: &quot;onehot/Cast&quot;\\n  op: &quot;Cast&quot;\\n  input: &quot;onehot/Reshape&quot;\\n  attr {\\n    key: &quot;DstT&quot;\\n    value {\\n      type: DT_INT32\\n    }\\n  }\\n  attr {\\n    key: &quot;SrcT&quot;\\n    value {\\n      type: DT_INT64\\n    }\\n  }\\n}\\nnode {\\n  name: &quot;onehot/one_hot/on_value&quot;\\n  op: &quot;Const&quot;\\n  attr {\\n    key: &quot;dtype&quot;\\n    value {\\n      type: DT_FLOAT\\n    }\\n  }\\n  attr {\\n    key: &quot;value&quot;\\n    value {\\n      tensor {\\n        dtype: DT_FLOAT\\n        tensor_shape {\\n        }\\n        float_val: 1.0\\n      }\\n    }\\n  }\\n}\\nnode {\\n  name: &quot;onehot/one_hot/off_value&quot;\\n  op: &quot;Const&quot;\\n  attr {\\n    key: &quot;dtype&quot;\\n    value {\\n      type: DT_FLOAT\\n    }\\n  }\\n  attr {\\n    key: &quot;value&quot;\\n    value {\\n      tensor {\\n        dtype: DT_FLOAT\\n        tensor_shape {\\n        }\\n        float_val: 0.0\\n      }\\n    }\\n  }\\n}\\nnode {\\n  name: &quot;onehot/one_hot/depth&quot;\\n  op: &quot;Const&quot;\\n  attr {\\n    key: &quot;dtype&quot;\\n    value {\\n      type: DT_INT32\\n    }\\n  }\\n  attr {\\n    key: &quot;value&quot;\\n    value {\\n      tensor {\\n        dtype: DT_INT32\\n        tensor_shape {\\n        }\\n        int_val: 10\\n      }\\n    }\\n  }\\n}\\nnode {\\n  name: &quot;onehot/one_hot&quot;\\n  op: &quot;OneHot&quot;\\n  input: &quot;onehot/Cast&quot;\\n  input: &quot;onehot/one_hot/depth&quot;\\n  input: &quot;onehot/one_hot/on_value&quot;\\n  input: &quot;onehot/one_hot/off_value&quot;\\n  attr {\\n    key: &quot;T&quot;\\n    value {\\n      type: DT_FLOAT\\n    }\\n  }\\n  attr {\\n    key: &quot;TI&quot;\\n    value {\\n      type: DT_INT32\\n    }\\n  }\\n  attr {\\n    key: &quot;axis&quot;\\n    value {\\n      i: -1\\n    }\\n  }\\n}\\nnode {\\n  name: &quot;cross_entropy/Rank&quot;\\n  op: &quot;Const&quot;\\n  attr {\\n    key: &quot;dtype&quot;\\n    value {\\n      type: DT_INT32\\n    }\\n  }\\n  attr {\\n    key: &quot;value&quot;\\n    value {\\n      tensor {\\n        dtype: DT_INT32\\n        tensor_shape {\\n        }\\n        int_val: 2\\n      }\\n    }\\n  }\\n}\\nnode {\\n  name: &quot;cross_entropy/Shape&quot;\\n  op: &quot;Shape&quot;\\n  input: &quot;fc/add&quot;\\n  attr {\\n    key: &quot;T&quot;\\n    value {\\n      type: DT_FLOAT\\n    }\\n  }\\n  attr {\\n    key: &quot;out_type&quot;\\n    value {\\n      type: DT_INT32\\n    }\\n  }\\n}\\nnode {\\n  name: &quot;cross_entropy/Rank_1&quot;\\n  op: &quot;Const&quot;\\n  attr {\\n    key: &quot;dtype&quot;\\n    value {\\n      type: DT_INT32\\n    }\\n  }\\n  attr {\\n    key: &quot;value&quot;\\n    value {\\n      tensor {\\n        dtype: DT_INT32\\n        tensor_shape {\\n        }\\n        int_val: 2\\n      }\\n    }\\n  }\\n}\\nnode {\\n  name: &quot;cross_entropy/Shape_1&quot;\\n  op: &quot;Shape&quot;\\n  input: &quot;fc/add&quot;\\n  attr {\\n    key: &quot;T&quot;\\n    value {\\n      type: DT_FLOAT\\n    }\\n  }\\n  attr {\\n    key: &quot;out_type&quot;\\n    value {\\n      type: DT_INT32\\n    }\\n  }\\n}\\nnode {\\n  name: &quot;cross_entropy/Sub/y&quot;\\n  op: &quot;Const&quot;\\n  attr {\\n    key: &quot;dtype&quot;\\n    value {\\n      type: DT_INT32\\n    }\\n  }\\n  attr {\\n    key: &quot;value&quot;\\n    value {\\n      tensor {\\n        dtype: DT_INT32\\n        tensor_shape {\\n        }\\n        int_val: 1\\n      }\\n    }\\n  }\\n}\\nnode {\\n  name: &quot;cross_entropy/Sub&quot;\\n  op: &quot;Sub&quot;\\n  input: &quot;cross_entropy/Rank_1&quot;\\n  input: &quot;cross_entropy/Sub/y&quot;\\n  attr {\\n    key: &quot;T&quot;\\n    value {\\n      type: DT_INT32\\n    }\\n  }\\n}\\nnode {\\n  name: &quot;cross_entropy/Slice/begin&quot;\\n  op: &quot;Pack&quot;\\n  input: &quot;cross_entropy/Sub&quot;\\n  attr {\\n    key: &quot;N&quot;\\n    value {\\n      i: 1\\n    }\\n  }\\n  attr {\\n    key: &quot;T&quot;\\n    value {\\n      type: DT_INT32\\n    }\\n  }\\n  attr {\\n    key: &quot;axis&quot;\\n    value {\\n      i: 0\\n    }\\n  }\\n}\\nnode {\\n  name: &quot;cross_entropy/Slice/size&quot;\\n  op: &quot;Const&quot;\\n  attr {\\n    key: &quot;dtype&quot;\\n    value {\\n      type: DT_INT32\\n    }\\n  }\\n  attr {\\n    key: &quot;value&quot;\\n    value {\\n      tensor {\\n        dtype: DT_INT32\\n        tensor_shape {\\n          dim {\\n            size: 1\\n          }\\n        }\\n        int_val: 1\\n      }\\n    }\\n  }\\n}\\nnode {\\n  name: &quot;cross_entropy/Slice&quot;\\n  op: &quot;Slice&quot;\\n  input: &quot;cross_entropy/Shape_1&quot;\\n  input: &quot;cross_entropy/Slice/begin&quot;\\n  input: &quot;cross_entropy/Slice/size&quot;\\n  attr {\\n    key: &quot;Index&quot;\\n    value {\\n      type: DT_INT32\\n    }\\n  }\\n  attr {\\n    key: &quot;T&quot;\\n    value {\\n      type: DT_INT32\\n    }\\n  }\\n}\\nnode {\\n  name: &quot;cross_entropy/concat/concat_dim&quot;\\n  op: &quot;Const&quot;\\n  attr {\\n    key: &quot;dtype&quot;\\n    value {\\n      type: DT_INT32\\n    }\\n  }\\n  attr {\\n    key: &quot;value&quot;\\n    value {\\n      tensor {\\n        dtype: DT_INT32\\n        tensor_shape {\\n        }\\n        int_val: 0\\n      }\\n    }\\n  }\\n}\\nnode {\\n  name: &quot;cross_entropy/concat/values_0&quot;\\n  op: &quot;Const&quot;\\n  attr {\\n    key: &quot;dtype&quot;\\n    value {\\n      type: DT_INT32\\n    }\\n  }\\n  attr {\\n    key: &quot;value&quot;\\n    value {\\n      tensor {\\n        dtype: DT_INT32\\n        tensor_shape {\\n          dim {\\n            size: 1\\n          }\\n        }\\n        int_val: -1\\n      }\\n    }\\n  }\\n}\\nnode {\\n  name: &quot;cross_entropy/concat&quot;\\n  op: &quot;Concat&quot;\\n  input: &quot;cross_entropy/concat/concat_dim&quot;\\n  input: &quot;cross_entropy/concat/values_0&quot;\\n  input: &quot;cross_entropy/Slice&quot;\\n  attr {\\n    key: &quot;N&quot;\\n    value {\\n      i: 2\\n    }\\n  }\\n  attr {\\n    key: &quot;T&quot;\\n    value {\\n      type: DT_INT32\\n    }\\n  }\\n}\\nnode {\\n  name: &quot;cross_entropy/Reshape&quot;\\n  op: &quot;Reshape&quot;\\n  input: &quot;fc/add&quot;\\n  input: &quot;cross_entropy/concat&quot;\\n  attr {\\n    key: &quot;T&quot;\\n    value {\\n      type: DT_FLOAT\\n    }\\n  }\\n  attr {\\n    key: &quot;Tshape&quot;\\n    value {\\n      type: DT_INT32\\n    }\\n  }\\n}\\nnode {\\n  name: &quot;cross_entropy/Rank_2&quot;\\n  op: &quot;Const&quot;\\n  attr {\\n    key: &quot;dtype&quot;\\n    value {\\n      type: DT_INT32\\n    }\\n  }\\n  attr {\\n    key: &quot;value&quot;\\n    value {\\n      tensor {\\n        dtype: DT_INT32\\n        tensor_shape {\\n        }\\n        int_val: 2\\n      }\\n    }\\n  }\\n}\\nnode {\\n  name: &quot;cross_entropy/Shape_2&quot;\\n  op: &quot;Shape&quot;\\n  input: &quot;onehot/one_hot&quot;\\n  attr {\\n    key: &quot;T&quot;\\n    value {\\n      type: DT_FLOAT\\n    }\\n  }\\n  attr {\\n    key: &quot;out_type&quot;\\n    value {\\n      type: DT_INT32\\n    }\\n  }\\n}\\nnode {\\n  name: &quot;cross_entropy/Sub_1/y&quot;\\n  op: &quot;Const&quot;\\n  attr {\\n    key: &quot;dtype&quot;\\n    value {\\n      type: DT_INT32\\n    }\\n  }\\n  attr {\\n    key: &quot;value&quot;\\n    value {\\n      tensor {\\n        dtype: DT_INT32\\n        tensor_shape {\\n        }\\n        int_val: 1\\n      }\\n    }\\n  }\\n}\\nnode {\\n  name: &quot;cross_entropy/Sub_1&quot;\\n  op: &quot;Sub&quot;\\n  input: &quot;cross_entropy/Rank_2&quot;\\n  input: &quot;cross_entropy/Sub_1/y&quot;\\n  attr {\\n    key: &quot;T&quot;\\n    value {\\n      type: DT_INT32\\n    }\\n  }\\n}\\nnode {\\n  name: &quot;cross_entropy/Slice_1/begin&quot;\\n  op: &quot;Pack&quot;\\n  input: &quot;cross_entropy/Sub_1&quot;\\n  attr {\\n    key: &quot;N&quot;\\n    value {\\n      i: 1\\n    }\\n  }\\n  attr {\\n    key: &quot;T&quot;\\n    value {\\n      type: DT_INT32\\n    }\\n  }\\n  attr {\\n    key: &quot;axis&quot;\\n    value {\\n      i: 0\\n    }\\n  }\\n}\\nnode {\\n  name: &quot;cross_entropy/Slice_1/size&quot;\\n  op: &quot;Const&quot;\\n  attr {\\n    key: &quot;dtype&quot;\\n    value {\\n      type: DT_INT32\\n    }\\n  }\\n  attr {\\n    key: &quot;value&quot;\\n    value {\\n      tensor {\\n        dtype: DT_INT32\\n        tensor_shape {\\n          dim {\\n            size: 1\\n          }\\n        }\\n        int_val: 1\\n      }\\n    }\\n  }\\n}\\nnode {\\n  name: &quot;cross_entropy/Slice_1&quot;\\n  op: &quot;Slice&quot;\\n  input: &quot;cross_entropy/Shape_2&quot;\\n  input: &quot;cross_entropy/Slice_1/begin&quot;\\n  input: &quot;cross_entropy/Slice_1/size&quot;\\n  attr {\\n    key: &quot;Index&quot;\\n    value {\\n      type: DT_INT32\\n    }\\n  }\\n  attr {\\n    key: &quot;T&quot;\\n    value {\\n      type: DT_INT32\\n    }\\n  }\\n}\\nnode {\\n  name: &quot;cross_entropy/concat_1/concat_dim&quot;\\n  op: &quot;Const&quot;\\n  attr {\\n    key: &quot;dtype&quot;\\n    value {\\n      type: DT_INT32\\n    }\\n  }\\n  attr {\\n    key: &quot;value&quot;\\n    value {\\n      tensor {\\n        dtype: DT_INT32\\n        tensor_shape {\\n        }\\n        int_val: 0\\n      }\\n    }\\n  }\\n}\\nnode {\\n  name: &quot;cross_entropy/concat_1/values_0&quot;\\n  op: &quot;Const&quot;\\n  attr {\\n    key: &quot;dtype&quot;\\n    value {\\n      type: DT_INT32\\n    }\\n  }\\n  attr {\\n    key: &quot;value&quot;\\n    value {\\n      tensor {\\n        dtype: DT_INT32\\n        tensor_shape {\\n          dim {\\n            size: 1\\n          }\\n        }\\n        int_val: -1\\n      }\\n    }\\n  }\\n}\\nnode {\\n  name: &quot;cross_entropy/concat_1&quot;\\n  op: &quot;Concat&quot;\\n  input: &quot;cross_entropy/concat_1/concat_dim&quot;\\n  input: &quot;cross_entropy/concat_1/values_0&quot;\\n  input: &quot;cross_entropy/Slice_1&quot;\\n  attr {\\n    key: &quot;N&quot;\\n    value {\\n      i: 2\\n    }\\n  }\\n  attr {\\n    key: &quot;T&quot;\\n    value {\\n      type: DT_INT32\\n    }\\n  }\\n}\\nnode {\\n  name: &quot;cross_entropy/Reshape_1&quot;\\n  op: &quot;Reshape&quot;\\n  input: &quot;onehot/one_hot&quot;\\n  input: &quot;cross_entropy/concat_1&quot;\\n  attr {\\n    key: &quot;T&quot;\\n    value {\\n      type: DT_FLOAT\\n    }\\n  }\\n  attr {\\n    key: &quot;Tshape&quot;\\n    value {\\n      type: DT_INT32\\n    }\\n  }\\n}\\nnode {\\n  name: &quot;cross_entropy/SoftmaxCrossEntropyWithLogits&quot;\\n  op: &quot;SoftmaxCrossEntropyWithLogits&quot;\\n  input: &quot;cross_entropy/Reshape&quot;\\n  input: &quot;cross_entropy/Reshape_1&quot;\\n  attr {\\n    key: &quot;T&quot;\\n    value {\\n      type: DT_FLOAT\\n    }\\n  }\\n}\\nnode {\\n  name: &quot;cross_entropy/Sub_2/y&quot;\\n  op: &quot;Const&quot;\\n  attr {\\n    key: &quot;dtype&quot;\\n    value {\\n      type: DT_INT32\\n    }\\n  }\\n  attr {\\n    key: &quot;value&quot;\\n    value {\\n      tensor {\\n        dtype: DT_INT32\\n        tensor_shape {\\n        }\\n        int_val: 1\\n      }\\n    }\\n  }\\n}\\nnode {\\n  name: &quot;cross_entropy/Sub_2&quot;\\n  op: &quot;Sub&quot;\\n  input: &quot;cross_entropy/Rank&quot;\\n  input: &quot;cross_entropy/Sub_2/y&quot;\\n  attr {\\n    key: &quot;T&quot;\\n    value {\\n      type: DT_INT32\\n    }\\n  }\\n}\\nnode {\\n  name: &quot;cross_entropy/Slice_2/begin&quot;\\n  op: &quot;Const&quot;\\n  attr {\\n    key: &quot;dtype&quot;\\n    value {\\n      type: DT_INT32\\n    }\\n  }\\n  attr {\\n    key: &quot;value&quot;\\n    value {\\n      tensor {\\n        dtype: DT_INT32\\n        tensor_shape {\\n          dim {\\n            size: 1\\n          }\\n        }\\n        int_val: 0\\n      }\\n    }\\n  }\\n}\\nnode {\\n  name: &quot;cross_entropy/Slice_2/size&quot;\\n  op: &quot;Pack&quot;\\n  input: &quot;cross_entropy/Sub_2&quot;\\n  attr {\\n    key: &quot;N&quot;\\n    value {\\n      i: 1\\n    }\\n  }\\n  attr {\\n    key: &quot;T&quot;\\n    value {\\n      type: DT_INT32\\n    }\\n  }\\n  attr {\\n    key: &quot;axis&quot;\\n    value {\\n      i: 0\\n    }\\n  }\\n}\\nnode {\\n  name: &quot;cross_entropy/Slice_2&quot;\\n  op: &quot;Slice&quot;\\n  input: &quot;cross_entropy/Shape&quot;\\n  input: &quot;cross_entropy/Slice_2/begin&quot;\\n  input: &quot;cross_entropy/Slice_2/size&quot;\\n  attr {\\n    key: &quot;Index&quot;\\n    value {\\n      type: DT_INT32\\n    }\\n  }\\n  attr {\\n    key: &quot;T&quot;\\n    value {\\n      type: DT_INT32\\n    }\\n  }\\n}\\nnode {\\n  name: &quot;cross_entropy/Reshape_2&quot;\\n  op: &quot;Reshape&quot;\\n  input: &quot;cross_entropy/SoftmaxCrossEntropyWithLogits&quot;\\n  input: &quot;cross_entropy/Slice_2&quot;\\n  attr {\\n    key: &quot;T&quot;\\n    value {\\n      type: DT_FLOAT\\n    }\\n  }\\n  attr {\\n    key: &quot;Tshape&quot;\\n    value {\\n      type: DT_INT32\\n    }\\n  }\\n}\\nnode {\\n  name: &quot;cross_entropy/Const&quot;\\n  op: &quot;Const&quot;\\n  attr {\\n    key: &quot;dtype&quot;\\n    value {\\n      type: DT_INT32\\n    }\\n  }\\n  attr {\\n    key: &quot;value&quot;\\n    value {\\n      tensor {\\n        dtype: DT_INT32\\n        tensor_shape {\\n          dim {\\n            size: 1\\n          }\\n        }\\n        int_val: 0\\n      }\\n    }\\n  }\\n}\\nnode {\\n  name: &quot;cross_entropy/Mean&quot;\\n  op: &quot;Mean&quot;\\n  input: &quot;cross_entropy/Reshape_2&quot;\\n  input: &quot;cross_entropy/Const&quot;\\n  attr {\\n    key: &quot;T&quot;\\n    value {\\n      type: DT_FLOAT\\n    }\\n  }\\n  attr {\\n    key: &quot;Tidx&quot;\\n    value {\\n      type: DT_INT32\\n    }\\n  }\\n  attr {\\n    key: &quot;keep_dims&quot;\\n    value {\\n      b: false\\n    }\\n  }\\n}\\nnode {\\n  name: &quot;accuracy/ArgMax/dimension&quot;\\n  op: &quot;Const&quot;\\n  attr {\\n    key: &quot;dtype&quot;\\n    value {\\n      type: DT_INT32\\n    }\\n  }\\n  attr {\\n    key: &quot;value&quot;\\n    value {\\n      tensor {\\n        dtype: DT_INT32\\n        tensor_shape {\\n        }\\n        int_val: 1\\n      }\\n    }\\n  }\\n}\\nnode {\\n  name: &quot;accuracy/ArgMax&quot;\\n  op: &quot;ArgMax&quot;\\n  input: &quot;fc/add&quot;\\n  input: &quot;accuracy/ArgMax/dimension&quot;\\n  attr {\\n    key: &quot;T&quot;\\n    value {\\n      type: DT_FLOAT\\n    }\\n  }\\n  attr {\\n    key: &quot;Tidx&quot;\\n    value {\\n      type: DT_INT32\\n    }\\n  }\\n}\\nnode {\\n  name: &quot;accuracy/ArgMax_1/dimension&quot;\\n  op: &quot;Const&quot;\\n  attr {\\n    key: &quot;dtype&quot;\\n    value {\\n      type: DT_INT32\\n    }\\n  }\\n  attr {\\n    key: &quot;value&quot;\\n    value {\\n      tensor {\\n        dtype: DT_INT32\\n        tensor_shape {\\n        }\\n        int_val: 1\\n      }\\n    }\\n  }\\n}\\nnode {\\n  name: &quot;accuracy/ArgMax_1&quot;\\n  op: &quot;ArgMax&quot;\\n  input: &quot;onehot/one_hot&quot;\\n  input: &quot;accuracy/ArgMax_1/dimension&quot;\\n  attr {\\n    key: &quot;T&quot;\\n    value {\\n      type: DT_FLOAT\\n    }\\n  }\\n  attr {\\n    key: &quot;Tidx&quot;\\n    value {\\n      type: DT_INT32\\n    }\\n  }\\n}\\nnode {\\n  name: &quot;accuracy/Equal&quot;\\n  op: &quot;Equal&quot;\\n  input: &quot;accuracy/ArgMax&quot;\\n  input: &quot;accuracy/ArgMax_1&quot;\\n  attr {\\n    key: &quot;T&quot;\\n    value {\\n      type: DT_INT64\\n    }\\n  }\\n}\\nnode {\\n  name: &quot;accuracy/Cast&quot;\\n  op: &quot;Cast&quot;\\n  input: &quot;accuracy/Equal&quot;\\n  attr {\\n    key: &quot;DstT&quot;\\n    value {\\n      type: DT_FLOAT\\n    }\\n  }\\n  attr {\\n    key: &quot;SrcT&quot;\\n    value {\\n      type: DT_BOOL\\n    }\\n  }\\n}\\nnode {\\n  name: &quot;accuracy/Const&quot;\\n  op: &quot;Const&quot;\\n  attr {\\n    key: &quot;dtype&quot;\\n    value {\\n      type: DT_INT32\\n    }\\n  }\\n  attr {\\n    key: &quot;value&quot;\\n    value {\\n      tensor {\\n        dtype: DT_INT32\\n        tensor_shape {\\n          dim {\\n            size: 1\\n          }\\n        }\\n        int_val: 0\\n      }\\n    }\\n  }\\n}\\nnode {\\n  name: &quot;accuracy/Mean&quot;\\n  op: &quot;Mean&quot;\\n  input: &quot;accuracy/Cast&quot;\\n  input: &quot;accuracy/Const&quot;\\n  attr {\\n    key: &quot;T&quot;\\n    value {\\n      type: DT_FLOAT\\n    }\\n  }\\n  attr {\\n    key: &quot;Tidx&quot;\\n    value {\\n      type: DT_INT32\\n    }\\n  }\\n  attr {\\n    key: &quot;keep_dims&quot;\\n    value {\\n      b: false\\n    }\\n  }\\n}\\n';\n",
       "          }\n",
       "        </script>\n",
       "        <link rel=&quot;import&quot; href=&quot;https://tensorboard.appspot.com/tf-graph-basic.build.html&quot; onload=load()>\n",
       "        <div style=&quot;height:600px&quot;>\n",
       "          <tf-graph-basic id=&quot;graph0.377249657638&quot;></tf-graph-basic>\n",
       "        </div>\n",
       "    \"></iframe>\n",
       "    "
      ],
      "text/plain": [
       "<IPython.core.display.HTML object>"
      ]
     },
     "metadata": {},
     "output_type": "display_data"
    }
   ],
   "source": [
    "show_graph(graph_def)"
   ]
  },
  {
   "cell_type": "code",
   "execution_count": null,
   "metadata": {
    "collapsed": true
   },
   "outputs": [],
   "source": []
  }
 ],
 "metadata": {
  "kernelspec": {
   "display_name": "Python 2",
   "language": "python",
   "name": "python2"
  },
  "language_info": {
   "codemirror_mode": {
    "name": "ipython",
    "version": 2
   },
   "file_extension": ".py",
   "mimetype": "text/x-python",
   "name": "python",
   "nbconvert_exporter": "python",
   "pygments_lexer": "ipython2",
   "version": "2.7.12"
  }
 },
 "nbformat": 4,
 "nbformat_minor": 0
}
