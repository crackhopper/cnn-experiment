{
 "cells": [
  {
   "cell_type": "code",
   "execution_count": null,
   "metadata": {
    "collapsed": false
   },
   "outputs": [],
   "source": [
    "import tensorflow as tf\n",
    "from tensorflow.examples.tutorials.mnist import input_data\n",
    "mnist = input_data.read_data_sets('MNIST_data', one_hot=True)"
   ]
  },
  {
   "cell_type": "code",
   "execution_count": null,
   "metadata": {
    "collapsed": true
   },
   "outputs": [],
   "source": [
    "def weight_variable(shape):\n",
    "    initial = tf.truncated_normal(shape, stddev=0.1)\n",
    "    return tf.Variable(initial,name='weights')\n",
    "\n",
    "def bias_variable(shape):\n",
    "    initial = tf.constant(0.1, shape=shape)\n",
    "    return tf.Variable(initial,name='biases')\n",
    "def conv2d(x, W):\n",
    "    return tf.nn.conv2d(x, W, strides=[1, 1, 1, 1], padding='SAME')\n",
    "\n",
    "def max_pool_2x2(x):\n",
    "    return tf.nn.max_pool(x, ksize=[1, 2, 2, 1],\n",
    "                        strides=[1, 2, 2, 1], padding='SAME')"
   ]
  },
  {
   "cell_type": "code",
   "execution_count": null,
   "metadata": {
    "collapsed": false
   },
   "outputs": [],
   "source": [
    "tf.reset_default_graph()\n",
    "def model(x,keep_prob):\n",
    "    # layer 1\n",
    "    with tf.variable_scope('conv1'):\n",
    "        W_conv1 = weight_variable([5, 5, 1, 32])\n",
    "        b_conv1 = bias_variable([32])\n",
    "        x_image = tf.reshape(x, [-1,28,28,1])\n",
    "        h_conv1 = tf.nn.relu(conv2d(x_image, W_conv1) + b_conv1)\n",
    "        h_pool1 = max_pool_2x2(h_conv1)\n",
    "\n",
    "    # layer 2\n",
    "    with tf.variable_scope('conv2'):\n",
    "        W_conv2 = weight_variable([5, 5, 32, 64])\n",
    "        b_conv2 = bias_variable([64])\n",
    "        h_conv2 = tf.nn.relu(conv2d(h_pool1, W_conv2) + b_conv2)\n",
    "        h_pool2 = max_pool_2x2(h_conv2)\n",
    "    \n",
    "    with tf.variable_scope('fc1'):\n",
    "        W_fc1 = weight_variable([7 * 7 * 64, 1024])\n",
    "        b_fc1 = bias_variable([1024])\n",
    "        h_pool2_flat = tf.reshape(h_pool2, [-1, 7*7*64])\n",
    "        h_fc1 = tf.nn.relu(tf.matmul(h_pool2_flat, W_fc1) + b_fc1)\n",
    "    \n",
    "\n",
    "    with tf.variable_scope('dropout'):\n",
    "#        h_fc1_drop = tf.nn.dropout(h_fc1, keep_prob)\n",
    "        h_fc1_drop = h_fc1\n",
    "        \n",
    "    with tf.variable_scope('fc2'):\n",
    "        W_fc2 = weight_variable([1024, 10])\n",
    "        b_fc2 = bias_variable([10])\n",
    "        y_conv = tf.matmul(h_fc1_drop, W_fc2) + b_fc2\n",
    "    \n",
    "    return y_conv\n",
    "\n",
    "x = tf.placeholder(tf.float32, shape=[None, 784])\n",
    "y_ = tf.placeholder(tf.float32, shape=[None, 10])        \n",
    "keep_prob = tf.placeholder(tf.float32)\n",
    "\n",
    "y_conv = model(x,keep_prob)\n",
    "\n",
    "cross_entropy = tf.reduce_mean(tf.nn.softmax_cross_entropy_with_logits(y_conv, y_))\n",
    "train_step = tf.train.AdamOptimizer(1e-4).minimize(cross_entropy)\n",
    "\n",
    "correct_prediction = tf.equal(tf.argmax(y_conv,1), tf.argmax(y_,1))\n",
    "accuracy = tf.reduce_mean(tf.cast(correct_prediction, tf.float32))\n"
   ]
  },
  {
   "cell_type": "code",
   "execution_count": null,
   "metadata": {
    "collapsed": false
   },
   "outputs": [],
   "source": [
    "for i in tf.trainable_variables():\n",
    "    print(i.name,i.get_shape())"
   ]
  },
  {
   "cell_type": "code",
   "execution_count": null,
   "metadata": {
    "collapsed": false
   },
   "outputs": [],
   "source": [
    "with tf.Session() as sess:\n",
    "    sess.run(tf.initialize_all_variables())\n",
    "    for i in range(20000):\n",
    "        batch = mnist.train.next_batch(50)\n",
    "        if i%100 == 0:\n",
    "            train_accuracy = accuracy.eval(feed_dict={x:batch[0], y_: batch[1]})\n",
    "            test_accuracy = accuracy.eval(feed_dict={x: mnist.test.images, y_: mnist.test.labels, keep_prob: 1.0})\n",
    "            print(\"step %d, \\t training accuracy %g\\t test accuracy %g\"%(i, train_accuracy,test_accuracy))\n",
    "        train_step.run(feed_dict={x: batch[0], y_: batch[1]})"
   ]
  },
  {
   "cell_type": "markdown",
   "metadata": {},
   "source": [
    "# train model and save"
   ]
  },
  {
   "cell_type": "code",
   "execution_count": null,
   "metadata": {
    "collapsed": true
   },
   "outputs": [],
   "source": [
    "import pickle\n",
    "output = open('mnist_lenet.pkl', 'wb')\n",
    "pickle.dump(acc_list,'mnist_lenet.pkl')\n",
    "output.close()"
   ]
  },
  {
   "cell_type": "markdown",
   "metadata": {},
   "source": [
    "# old model"
   ]
  },
  {
   "cell_type": "code",
   "execution_count": null,
   "metadata": {
    "collapsed": true
   },
   "outputs": [],
   "source": [
    "from tensorflow.contrib import layers\n",
    "def max_pool_2x2(tensor_in,name='maxpool'):\n",
    "    with tf.variable_scope(name):\n",
    "        out = tf.nn.max_pool(tensor_in,ksize=[1,2,2,1],strides=[1,2,2,1],padding='SAME')\n",
    "    return out\n",
    "\n",
    "def logit_accuracy(logit,one_hot):\n",
    "    with tf.variable_scope('accuracy'):\n",
    "        correct_prediction = tf.equal(tf.argmax(logit, 1), tf.argmax(one_hot,1))\n",
    "        accuracy = tf.reduce_mean(tf.cast(correct_prediction, tf.float32))\n",
    "    return accuracy\n",
    "\n",
    "def flatten(feat):\n",
    "    _shape = feat.get_shape()\n",
    "    nfeat = np.prod(_shape[1:]).value \n",
    "    with tf.variable_scope('flatten'):\n",
    "        feat = tf.reshape(feat,shape=[-1,nfeat],name='flattened')\n",
    "    return feat\n",
    "\n",
    "def cross_entropy_loss(logit,onehot):\n",
    "    with tf.variable_scope('cross_entropy'):\n",
    "        loss = tf.reduce_mean(tf.nn.softmax_cross_entropy_with_logits(logit,onehot))\n",
    "    return loss\n",
    "\n",
    "def conv_model(x, onehot_tgt):\n",
    "    x_image = tf.reshape(x, [-1,28,28,1])\n",
    "    with tf.variable_scope('conv_layer1'):\n",
    "        h_conv1 = layers.conv2d(x_image,32,[5,5],activation_fn=tf.nn.relu)\n",
    "        h_pool1 = max_pool_2x2(h_conv1)\n",
    "    \n",
    "    with tf.variable_scope('conv_layer2'):\n",
    "        h_conv2 = layers.conv2d(h_pool1,64,[5,5],activation_fn=tf.nn.relu)\n",
    "        h_pool2 = max_pool_2x2(h_conv2)\n",
    "    \n",
    "    h_pool2_flat = tf.reshape(h_pool2,[-1,7*7*64])\n",
    "    with tf.variable_scope('fc_layer1'):\n",
    "        h_fc1 = layers.fully_connected(h_pool2_flat,1024,activation_fn=tf.nn.relu)\n",
    "\n",
    "    with tf.variable_scope('fc_layer2'):\n",
    "        logit = layers.fully_connected(h_fc1,10)\n",
    "\n",
    "    tf.add_to_collection('logit',logit)\n",
    "    \n",
    "    accuracy = logit_accuracy(logit,onehot_tgt)\n",
    "    tf.add_to_collection('accuracy',accuracy)\n",
    "    \n",
    "    loss = cross_entropy_loss(logit,onehot_tgt)\n",
    "    tf.add_to_collection('loss',loss)\n",
    "    \n",
    "    train_op = layers.optimize_loss(loss,tf.contrib.framework.get_global_step(),optimizer='SGD',learning_rate=0.01)\n",
    "    #train_op = tf.train.AdamOptimizer(1e-4).minimize(loss)\n",
    "\n",
    "    tf.add_to_collection('train_op',train_op)\n",
    "\n",
    "    return accuracy,loss,train_op\n",
    "\n",
    "tf.reset_default_graph()\n",
    "\n",
    "# build the model\n",
    "x = tf.placeholder(shape=[None,784],dtype = tf.float32)\n",
    "target = tf.placeholder(shape=[None,10],dtype = tf.int32)\n",
    "acc,lo,train_op = conv_model(x,target)"
   ]
  },
  {
   "cell_type": "code",
   "execution_count": null,
   "metadata": {
    "collapsed": false
   },
   "outputs": [],
   "source": [
    "for i in tf.trainable_variables():\n",
    "    print(i.name,i.get_shape())"
   ]
  },
  {
   "cell_type": "code",
   "execution_count": null,
   "metadata": {
    "collapsed": false
   },
   "outputs": [],
   "source": [
    "# saver\n",
    "#saver = tf.train.Saver(max_to_keep=None)\n",
    "# train the model\n",
    "acc_list=[]\n",
    "with tf.Session() as sess:\n",
    "    sess.run(tf.initialize_all_variables())\n",
    "    for i in xrange(20000):\n",
    "        batch = mnist.train.next_batch(50)\n",
    "        sess.run([train_op],feed_dict = {x:batch[0],target:batch[1]})\n",
    "        if i%100==0:\n",
    "            train_accuracy = acc.eval(feed_dict={x:batch[0], target: batch[1]})\n",
    "            test_accuracy = acc.eval(feed_dict={x:mnist.test.images, target: mnist.test.labels})\n",
    "            print(\"step %d, \\t training accuracy %g\\t test accuracy %g\"%(i, train_accuracy,test_accuracy))\n",
    "#            _acc = sess.run(acc,feed_dict = {x:mnist.test.images,target:mnist.test.labels})\n",
    "#            save_path = saver.save(sess, \"./mnist_lenet/model\",global_step=i)\n",
    "#            print(\"Model saved in file: %s\" % save_path)\n",
    "#            print(_acc)\n",
    "#            acc_list.append(_acc)"
   ]
  },
  {
   "cell_type": "code",
   "execution_count": null,
   "metadata": {
    "collapsed": true
   },
   "outputs": [],
   "source": []
  }
 ],
 "metadata": {
  "kernelspec": {
   "display_name": "Python 2",
   "language": "python",
   "name": "python2"
  },
  "language_info": {
   "codemirror_mode": {
    "name": "ipython",
    "version": 2
   },
   "file_extension": ".py",
   "mimetype": "text/x-python",
   "name": "python",
   "nbconvert_exporter": "python",
   "pygments_lexer": "ipython2",
   "version": "2.7.12"
  }
 },
 "nbformat": 4,
 "nbformat_minor": 0
}
