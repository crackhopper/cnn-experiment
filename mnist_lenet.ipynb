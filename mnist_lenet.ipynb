{
 "cells": [
  {
   "cell_type": "markdown",
   "metadata": {},
   "source": [
    "# run lenet model\n",
    "- build, train and test the model\n",
    "- save the checkpoint\n",
    "- add some tensor to collection"
   ]
  },
  {
   "cell_type": "code",
   "execution_count": 1,
   "metadata": {
    "collapsed": false,
    "scrolled": true
   },
   "outputs": [
    {
     "name": "stdout",
     "output_type": "stream",
     "text": [
      "Extracting MNIST_data/train-images-idx3-ubyte.gz\n",
      "Extracting MNIST_data/train-labels-idx1-ubyte.gz\n",
      "Extracting MNIST_data/t10k-images-idx3-ubyte.gz\n",
      "Extracting MNIST_data/t10k-labels-idx1-ubyte.gz\n"
     ]
    }
   ],
   "source": [
    "import tensorflow as tf\n",
    "from tensorflow.examples.tutorials.mnist import input_data\n",
    "mnist = input_data.read_data_sets('MNIST_data', one_hot=True)"
   ]
  },
  {
   "cell_type": "code",
   "execution_count": 2,
   "metadata": {
    "collapsed": true
   },
   "outputs": [],
   "source": [
    "def weight_variable(shape):\n",
    "    initial = tf.truncated_normal(shape, stddev=0.1)\n",
    "    return tf.Variable(initial,name='weights')\n",
    "\n",
    "def bias_variable(shape):\n",
    "    initial = tf.constant(0.1, shape=shape)\n",
    "    return tf.Variable(initial,name='biases')\n",
    "def conv2d(x, W):\n",
    "    return tf.nn.conv2d(x, W, strides=[1, 1, 1, 1], padding='SAME')\n",
    "\n",
    "def max_pool_2x2(x):\n",
    "    return tf.nn.max_pool(x, ksize=[1, 2, 2, 1],\n",
    "                        strides=[1, 2, 2, 1], padding='SAME')"
   ]
  },
  {
   "cell_type": "code",
   "execution_count": 5,
   "metadata": {
    "collapsed": false
   },
   "outputs": [],
   "source": [
    "tf.reset_default_graph()\n",
    "def model(x):\n",
    "    # layer 1\n",
    "    with tf.variable_scope('conv1'):\n",
    "        W_conv1 = weight_variable([5, 5, 1, 32])\n",
    "        b_conv1 = bias_variable([32])\n",
    "        x_image = tf.reshape(x, [-1,28,28,1])\n",
    "        h_conv1 = tf.nn.relu(conv2d(x_image, W_conv1) + b_conv1)\n",
    "        h_pool1 = max_pool_2x2(h_conv1)\n",
    "\n",
    "    # layer 2\n",
    "    with tf.variable_scope('conv2'):\n",
    "        W_conv2 = weight_variable([5, 5, 32, 64])\n",
    "        b_conv2 = bias_variable([64])\n",
    "        h_conv2 = tf.nn.relu(conv2d(h_pool1, W_conv2) + b_conv2)\n",
    "        h_pool2 = max_pool_2x2(h_conv2)\n",
    "    \n",
    "    with tf.variable_scope('fc1'):\n",
    "        W_fc1 = weight_variable([7 * 7 * 64, 1024])\n",
    "        b_fc1 = bias_variable([1024])\n",
    "        h_pool2_flat = tf.reshape(h_pool2, [-1, 7*7*64])\n",
    "        h_fc1 = tf.nn.relu(tf.matmul(h_pool2_flat, W_fc1) + b_fc1)\n",
    "        \n",
    "    h_fc1_drop = h_fc1\n",
    "    with tf.variable_scope('fc2'):\n",
    "        W_fc2 = weight_variable([1024, 10])\n",
    "        b_fc2 = bias_variable([10])\n",
    "        y_conv = tf.matmul(h_fc1_drop, W_fc2) + b_fc2\n",
    "    \n",
    "    return y_conv\n",
    "\n",
    "x = tf.placeholder(tf.float32, shape=[None, 784])\n",
    "y_ = tf.placeholder(tf.float32, shape=[None, 10])        \n",
    "tf.add_to_collection('x',x)\n",
    "tf.add_to_collection('y',y_)\n",
    "\n",
    "y_conv = model(x)\n",
    "tf.add_to_collection('conv_out',y_conv)\n",
    "\n",
    "cross_entropy = tf.reduce_mean(tf.nn.softmax_cross_entropy_with_logits(y_conv, y_))\n",
    "\n",
    "train_step = tf.train.AdamOptimizer(1e-4).minimize(cross_entropy)\n",
    "tf.add_to_collection('train_op',train_step)\n",
    "\n",
    "correct_prediction = tf.equal(tf.argmax(y_conv,1), tf.argmax(y_,1))\n",
    "accuracy = tf.reduce_mean(tf.cast(correct_prediction, tf.float32))\n",
    "tf.add_to_collection('loss',cross_entropy)\n",
    "tf.add_to_collection('accuracy',accuracy)"
   ]
  },
  {
   "cell_type": "code",
   "execution_count": 6,
   "metadata": {
    "collapsed": false
   },
   "outputs": [
    {
     "name": "stdout",
     "output_type": "stream",
     "text": [
      "(u'conv1/weights:0', TensorShape([Dimension(5), Dimension(5), Dimension(1), Dimension(32)]))\n",
      "(u'conv1/biases:0', TensorShape([Dimension(32)]))\n",
      "(u'conv2/weights:0', TensorShape([Dimension(5), Dimension(5), Dimension(32), Dimension(64)]))\n",
      "(u'conv2/biases:0', TensorShape([Dimension(64)]))\n",
      "(u'fc1/weights:0', TensorShape([Dimension(3136), Dimension(1024)]))\n",
      "(u'fc1/biases:0', TensorShape([Dimension(1024)]))\n",
      "(u'fc2/weights:0', TensorShape([Dimension(1024), Dimension(10)]))\n",
      "(u'fc2/biases:0', TensorShape([Dimension(10)]))\n"
     ]
    }
   ],
   "source": [
    "for i in tf.trainable_variables():\n",
    "    print(i.name,i.get_shape())"
   ]
  },
  {
   "cell_type": "code",
   "execution_count": null,
   "metadata": {
    "collapsed": false,
    "scrolled": false
   },
   "outputs": [],
   "source": [
    "steps=[]\n",
    "train_accs = []\n",
    "test_accs=[]\n",
    "losses = []\n",
    "\n",
    "# saver\n",
    "saver = tf.train.Saver(max_to_keep=None)\n",
    "with tf.Session() as sess:\n",
    "    sess.run(tf.initialize_all_variables())\n",
    "    for i in range(500):\n",
    "        batch = mnist.train.next_batch(50)\n",
    "        if i<50 or i%10 == 0:\n",
    "            train_accuracy,lo = sess.run([accuracy,cross_entropy],feed_dict={x:batch[0], y_: batch[1]})\n",
    "            test_accuracy = accuracy.eval(feed_dict={x: mnist.test.images, y_: mnist.test.labels, keep_prob: 1.0})\n",
    "            print(\"step %d--loss:%.4g, \\t training accuracy %g\\t test accuracy %g\"%(i, lo,train_accuracy,test_accuracy))\n",
    "            steps.append(i)\n",
    "            train_accs.append(train_accuracy)\n",
    "            test_accs.append(test_accuracy)\n",
    "            losses.append(lo)\n",
    "\n",
    "            save_path = saver.save(sess, \"./mnist_lenet/model\",global_step=i)\n",
    "            print(\"Model saved in file: %s\" % save_path)\n",
    "        train_step.run(feed_dict={x: batch[0], y_: batch[1]})"
   ]
  },
  {
   "cell_type": "markdown",
   "metadata": {},
   "source": [
    "# save the model accuracy"
   ]
  },
  {
   "cell_type": "code",
   "execution_count": 6,
   "metadata": {
    "collapsed": false
   },
   "outputs": [],
   "source": [
    "import pickle\n",
    "output = open('./mnist_lenet/loss_tracc_teacc.pkl', 'wb')\n",
    "pickle.dump([steps,losses,train_accs,test_accs],output)\n",
    "output.close()"
   ]
  },
  {
   "cell_type": "code",
   "execution_count": 7,
   "metadata": {
    "collapsed": false,
    "scrolled": false
   },
   "outputs": [
    {
     "name": "stdout",
     "output_type": "stream",
     "text": [
      "9.87258 0.14 0.0936\n",
      "8.43879 0.12 0.1049\n",
      "7.23856 0.12 0.1274\n",
      "5.73586 0.12 0.1418\n",
      "5.33568 0.1 0.1441\n",
      "3.86052 0.1 0.1393\n",
      "3.31845 0.14 0.1621\n",
      "2.99157 0.26 0.1932\n",
      "3.06676 0.18 0.1921\n",
      "3.03526 0.16 0.1963\n",
      "3.08372 0.06 0.1913\n",
      "2.69055 0.2 0.1933\n",
      "3.16267 0.1 0.2034\n",
      "2.7132 0.24 0.2322\n",
      "2.36252 0.28 0.2806\n",
      "1.87746 0.34 0.3371\n",
      "1.77628 0.34 0.3861\n",
      "1.8036 0.46 0.4179\n",
      "1.44111 0.52 0.4302\n",
      "1.80516 0.38 0.4375\n",
      "2.13833 0.34 0.45\n",
      "1.36921 0.64 0.4609\n",
      "1.65726 0.58 0.4715\n",
      "1.68778 0.46 0.4766\n",
      "1.48131 0.46 0.4843\n",
      "1.67813 0.4 0.4979\n",
      "1.3135 0.56 0.5292\n",
      "1.10703 0.7 0.5654\n",
      "1.48637 0.54 0.5872\n",
      "1.28923 0.6 0.5949\n",
      "1.17649 0.62 0.5931\n",
      "0.896269 0.78 0.5892\n",
      "1.03441 0.68 0.5985\n",
      "1.51701 0.6 0.6092\n",
      "1.15053 0.56 0.6292\n",
      "1.12986 0.6 0.6471\n",
      "1.53429 0.54 0.6601\n",
      "1.18873 0.68 0.6701\n",
      "1.06961 0.64 0.6743\n",
      "0.79784 0.82 0.6847\n",
      "1.13774 0.66 0.6994\n",
      "0.688797 0.72 0.7117\n",
      "0.846515 0.74 0.7199\n",
      "1.01146 0.7 0.7257\n",
      "1.11819 0.56 0.7255\n",
      "1.12986 0.6 0.7183\n",
      "0.950604 0.66 0.7175\n",
      "1.10079 0.64 0.7219\n",
      "0.944985 0.72 0.7326\n",
      "1.01095 0.68 0.7389\n",
      "0.803378 0.74 0.7441\n",
      "0.564438 0.8 0.7741\n",
      "0.562703 0.78 0.7927\n",
      "0.485874 0.84 0.7959\n",
      "0.513648 0.84 0.8386\n",
      "0.559806 0.8 0.8378\n",
      "0.416723 0.86 0.7974\n",
      "0.46197 0.88 0.8557\n",
      "0.475978 0.86 0.8658\n",
      "0.361977 0.9 0.8684\n",
      "0.38424 0.9 0.8788\n",
      "0.663462 0.82 0.887\n",
      "0.352699 0.88 0.8862\n",
      "0.33431 0.88 0.9001\n",
      "0.52723 0.82 0.9047\n",
      "0.184892 0.94 0.896\n",
      "0.307316 0.9 0.905\n",
      "0.598045 0.82 0.9092\n",
      "0.115306 0.96 0.915\n",
      "0.307133 0.88 0.915\n",
      "0.317638 0.92 0.9237\n",
      "0.252259 0.94 0.9138\n",
      "0.144687 0.98 0.9207\n",
      "0.252593 0.9 0.9242\n",
      "0.431681 0.86 0.9246\n",
      "0.367108 0.88 0.9329\n",
      "0.188104 0.96 0.9291\n",
      "0.369215 0.88 0.9164\n",
      "0.248222 0.94 0.9342\n",
      "0.107694 0.96 0.9196\n",
      "0.529647 0.8 0.933\n",
      "0.19176 0.9 0.9188\n",
      "0.121454 0.94 0.9327\n",
      "0.183692 0.94 0.9368\n",
      "0.309621 0.94 0.9379\n",
      "0.0703049 1.0 0.9405\n",
      "0.231974 0.98 0.9344\n",
      "0.160512 0.92 0.9453\n",
      "0.309699 0.9 0.947\n",
      "0.100209 0.98 0.9178\n",
      "0.356022 0.92 0.9364\n",
      "0.151405 0.98 0.9333\n",
      "0.0657625 1.0 0.9441\n",
      "0.194068 0.92 0.9457\n",
      "0.182952 0.94 0.9424\n"
     ]
    }
   ],
   "source": [
    "infile = open('./mnist_lenet/loss_tracc_teacc.pkl','rb')\n",
    "for _,l,tr,te in zip(*pickle.load(infile)):\n",
    "    print l,tr,te"
   ]
  },
  {
   "cell_type": "code",
   "execution_count": null,
   "metadata": {
    "collapsed": true
   },
   "outputs": [],
   "source": []
  }
 ],
 "metadata": {
  "kernelspec": {
   "display_name": "Python [keras]",
   "language": "python",
   "name": "Python [keras]"
  },
  "language_info": {
   "codemirror_mode": {
    "name": "ipython",
    "version": 2
   },
   "file_extension": ".py",
   "mimetype": "text/x-python",
   "name": "python",
   "nbconvert_exporter": "python",
   "pygments_lexer": "ipython2",
   "version": "2.7.12"
  }
 },
 "nbformat": 4,
 "nbformat_minor": 0
}
